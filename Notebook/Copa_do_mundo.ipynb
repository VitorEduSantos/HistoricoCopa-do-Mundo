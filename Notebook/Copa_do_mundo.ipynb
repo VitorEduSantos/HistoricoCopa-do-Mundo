{
 "cells": [
  {
   "cell_type": "markdown",
   "metadata": {},
   "source": [
    "# Análise de dados da Copa do Mundo FIFA o longo do tempo\n",
    "\n",
    " Projeto acadêmico do curso de Ciências de Dados e Análise de Comportamento, da disciplina Imersão Profissional: Visualização de Dados, focado no tratamento de dados, identificação de tendências históricas e análise de desempenho de jogadores. \n",
    "\n",
    " O conjunto de dados dessa atividade está disponível em: [FIFA World Cup](https://www.kaggle.com/datasets/abecklas/fifa-world-cup/data) no Kaggle. \n",
    " \n",
    " **Este dataset é composto por três principais arquivos:** \n",
    " - WorldCupMatches: Inclui detalhes de todas as partidas das Copas do Mundo, como resultados, gols, fases do torneio, locais e dados de público. Permite explorar padrões em jogos e a evolução dos gols. \n",
    " - Jogadores Da Copa DoMundo (WorldCupPlayers): Contém dados sobre os jogadores que participaram das Copas do Mundo, suas atuações, gols e cartões, ajudando a analisar o desempenho individual e destacar os principais jogadores. \n",
    " - Copas do Mundo (WorldCups): Fornece um resumo de todas as edições da Copa do Mundo, com informações sobre país-sede, vencedores, gols totais e público, essencial para entender a evolução e marcos do torneio\n",
    "\n",
    "## Objetivos:\n",
    "- Verificar a evolução do público nos estádios.\n",
    "- Identificar tendências no número de cartões amarelos e vermelhos.\n",
    "- Explorar dados sobre jogadores e times.\n",
    "- Analisar o número de gols marcados ao longo das Copas do Mundo.\n",
    "- Analisar a ofensividade das seleções"
   ]
  },
  {
   "cell_type": "code",
   "execution_count": 54,
   "metadata": {},
   "outputs": [],
   "source": [
    "# Importando as bibliotecas necessárias\n",
    "import pandas as pd\n",
    "import matplotlib.pyplot as plt\n",
    "import seaborn as sns\n",
    "%matplotlib inline\n"
   ]
  },
  {
   "cell_type": "code",
   "execution_count": 55,
   "metadata": {},
   "outputs": [],
   "source": [
    "# Lendo os datasets\n",
    "wc_jogos = pd.read_csv(\"../Datasets/WorldCupMatches.csv\")\n",
    "wc_players = pd.read_csv(\"../Datasets/WorldCupPlayers.csv\")\n",
    "wc = pd.read_csv(\"../Datasets/WorldCups.csv\")"
   ]
  },
  {
   "cell_type": "code",
   "execution_count": 56,
   "metadata": {},
   "outputs": [],
   "source": [
    "# Definindo estilos do gráficos do Seaborn\n",
    "sns.set_theme(style='whitegrid', palette='viridis')"
   ]
  },
  {
   "cell_type": "markdown",
   "metadata": {},
   "source": [
    "# **Análise Exploratória dos Datasets**"
   ]
  },
  {
   "cell_type": "code",
   "execution_count": 57,
   "metadata": {},
   "outputs": [
    {
     "data": {
      "text/html": [
       "<div>\n",
       "<style scoped>\n",
       "    .dataframe tbody tr th:only-of-type {\n",
       "        vertical-align: middle;\n",
       "    }\n",
       "\n",
       "    .dataframe tbody tr th {\n",
       "        vertical-align: top;\n",
       "    }\n",
       "\n",
       "    .dataframe thead th {\n",
       "        text-align: right;\n",
       "    }\n",
       "</style>\n",
       "<table border=\"1\" class=\"dataframe\">\n",
       "  <thead>\n",
       "    <tr style=\"text-align: right;\">\n",
       "      <th></th>\n",
       "      <th>Year</th>\n",
       "      <th>Datetime</th>\n",
       "      <th>Stage</th>\n",
       "      <th>Stadium</th>\n",
       "      <th>City</th>\n",
       "      <th>Home Team Name</th>\n",
       "      <th>Home Team Goals</th>\n",
       "      <th>Away Team Goals</th>\n",
       "      <th>Away Team Name</th>\n",
       "      <th>Win conditions</th>\n",
       "      <th>Attendance</th>\n",
       "      <th>Half-time Home Goals</th>\n",
       "      <th>Half-time Away Goals</th>\n",
       "      <th>Referee</th>\n",
       "      <th>Assistant 1</th>\n",
       "      <th>Assistant 2</th>\n",
       "      <th>RoundID</th>\n",
       "      <th>MatchID</th>\n",
       "      <th>Home Team Initials</th>\n",
       "      <th>Away Team Initials</th>\n",
       "    </tr>\n",
       "  </thead>\n",
       "  <tbody>\n",
       "    <tr>\n",
       "      <th>0</th>\n",
       "      <td>1930.0</td>\n",
       "      <td>13 Jul 1930 - 15:00</td>\n",
       "      <td>Group 1</td>\n",
       "      <td>Pocitos</td>\n",
       "      <td>Montevideo</td>\n",
       "      <td>France</td>\n",
       "      <td>4.0</td>\n",
       "      <td>1.0</td>\n",
       "      <td>Mexico</td>\n",
       "      <td></td>\n",
       "      <td>4444.0</td>\n",
       "      <td>3.0</td>\n",
       "      <td>0.0</td>\n",
       "      <td>LOMBARDI Domingo (URU)</td>\n",
       "      <td>CRISTOPHE Henry (BEL)</td>\n",
       "      <td>REGO Gilberto (BRA)</td>\n",
       "      <td>201.0</td>\n",
       "      <td>1096.0</td>\n",
       "      <td>FRA</td>\n",
       "      <td>MEX</td>\n",
       "    </tr>\n",
       "    <tr>\n",
       "      <th>1</th>\n",
       "      <td>1930.0</td>\n",
       "      <td>13 Jul 1930 - 15:00</td>\n",
       "      <td>Group 4</td>\n",
       "      <td>Parque Central</td>\n",
       "      <td>Montevideo</td>\n",
       "      <td>USA</td>\n",
       "      <td>3.0</td>\n",
       "      <td>0.0</td>\n",
       "      <td>Belgium</td>\n",
       "      <td></td>\n",
       "      <td>18346.0</td>\n",
       "      <td>2.0</td>\n",
       "      <td>0.0</td>\n",
       "      <td>MACIAS Jose (ARG)</td>\n",
       "      <td>MATEUCCI Francisco (URU)</td>\n",
       "      <td>WARNKEN Alberto (CHI)</td>\n",
       "      <td>201.0</td>\n",
       "      <td>1090.0</td>\n",
       "      <td>USA</td>\n",
       "      <td>BEL</td>\n",
       "    </tr>\n",
       "    <tr>\n",
       "      <th>2</th>\n",
       "      <td>1930.0</td>\n",
       "      <td>14 Jul 1930 - 12:45</td>\n",
       "      <td>Group 2</td>\n",
       "      <td>Parque Central</td>\n",
       "      <td>Montevideo</td>\n",
       "      <td>Yugoslavia</td>\n",
       "      <td>2.0</td>\n",
       "      <td>1.0</td>\n",
       "      <td>Brazil</td>\n",
       "      <td></td>\n",
       "      <td>24059.0</td>\n",
       "      <td>2.0</td>\n",
       "      <td>0.0</td>\n",
       "      <td>TEJADA Anibal (URU)</td>\n",
       "      <td>VALLARINO Ricardo (URU)</td>\n",
       "      <td>BALWAY Thomas (FRA)</td>\n",
       "      <td>201.0</td>\n",
       "      <td>1093.0</td>\n",
       "      <td>YUG</td>\n",
       "      <td>BRA</td>\n",
       "    </tr>\n",
       "    <tr>\n",
       "      <th>3</th>\n",
       "      <td>1930.0</td>\n",
       "      <td>14 Jul 1930 - 14:50</td>\n",
       "      <td>Group 3</td>\n",
       "      <td>Pocitos</td>\n",
       "      <td>Montevideo</td>\n",
       "      <td>Romania</td>\n",
       "      <td>3.0</td>\n",
       "      <td>1.0</td>\n",
       "      <td>Peru</td>\n",
       "      <td></td>\n",
       "      <td>2549.0</td>\n",
       "      <td>1.0</td>\n",
       "      <td>0.0</td>\n",
       "      <td>WARNKEN Alberto (CHI)</td>\n",
       "      <td>LANGENUS Jean (BEL)</td>\n",
       "      <td>MATEUCCI Francisco (URU)</td>\n",
       "      <td>201.0</td>\n",
       "      <td>1098.0</td>\n",
       "      <td>ROU</td>\n",
       "      <td>PER</td>\n",
       "    </tr>\n",
       "    <tr>\n",
       "      <th>4</th>\n",
       "      <td>1930.0</td>\n",
       "      <td>15 Jul 1930 - 16:00</td>\n",
       "      <td>Group 1</td>\n",
       "      <td>Parque Central</td>\n",
       "      <td>Montevideo</td>\n",
       "      <td>Argentina</td>\n",
       "      <td>1.0</td>\n",
       "      <td>0.0</td>\n",
       "      <td>France</td>\n",
       "      <td></td>\n",
       "      <td>23409.0</td>\n",
       "      <td>0.0</td>\n",
       "      <td>0.0</td>\n",
       "      <td>REGO Gilberto (BRA)</td>\n",
       "      <td>SAUCEDO Ulises (BOL)</td>\n",
       "      <td>RADULESCU Constantin (ROU)</td>\n",
       "      <td>201.0</td>\n",
       "      <td>1085.0</td>\n",
       "      <td>ARG</td>\n",
       "      <td>FRA</td>\n",
       "    </tr>\n",
       "  </tbody>\n",
       "</table>\n",
       "</div>"
      ],
      "text/plain": [
       "     Year              Datetime    Stage         Stadium         City  \\\n",
       "0  1930.0  13 Jul 1930 - 15:00   Group 1         Pocitos  Montevideo    \n",
       "1  1930.0  13 Jul 1930 - 15:00   Group 4  Parque Central  Montevideo    \n",
       "2  1930.0  14 Jul 1930 - 12:45   Group 2  Parque Central  Montevideo    \n",
       "3  1930.0  14 Jul 1930 - 14:50   Group 3         Pocitos  Montevideo    \n",
       "4  1930.0  15 Jul 1930 - 16:00   Group 1  Parque Central  Montevideo    \n",
       "\n",
       "  Home Team Name  Home Team Goals  Away Team Goals Away Team Name  \\\n",
       "0         France              4.0              1.0         Mexico   \n",
       "1            USA              3.0              0.0        Belgium   \n",
       "2     Yugoslavia              2.0              1.0         Brazil   \n",
       "3        Romania              3.0              1.0           Peru   \n",
       "4      Argentina              1.0              0.0         France   \n",
       "\n",
       "  Win conditions  Attendance  Half-time Home Goals  Half-time Away Goals  \\\n",
       "0                     4444.0                   3.0                   0.0   \n",
       "1                    18346.0                   2.0                   0.0   \n",
       "2                    24059.0                   2.0                   0.0   \n",
       "3                     2549.0                   1.0                   0.0   \n",
       "4                    23409.0                   0.0                   0.0   \n",
       "\n",
       "                  Referee               Assistant 1  \\\n",
       "0  LOMBARDI Domingo (URU)     CRISTOPHE Henry (BEL)   \n",
       "1       MACIAS Jose (ARG)  MATEUCCI Francisco (URU)   \n",
       "2     TEJADA Anibal (URU)   VALLARINO Ricardo (URU)   \n",
       "3   WARNKEN Alberto (CHI)       LANGENUS Jean (BEL)   \n",
       "4     REGO Gilberto (BRA)      SAUCEDO Ulises (BOL)   \n",
       "\n",
       "                  Assistant 2  RoundID  MatchID Home Team Initials  \\\n",
       "0         REGO Gilberto (BRA)    201.0   1096.0                FRA   \n",
       "1       WARNKEN Alberto (CHI)    201.0   1090.0                USA   \n",
       "2         BALWAY Thomas (FRA)    201.0   1093.0                YUG   \n",
       "3    MATEUCCI Francisco (URU)    201.0   1098.0                ROU   \n",
       "4  RADULESCU Constantin (ROU)    201.0   1085.0                ARG   \n",
       "\n",
       "  Away Team Initials  \n",
       "0                MEX  \n",
       "1                BEL  \n",
       "2                BRA  \n",
       "3                PER  \n",
       "4                FRA  "
      ]
     },
     "metadata": {},
     "output_type": "display_data"
    },
    {
     "name": "stdout",
     "output_type": "stream",
     "text": [
      "\n",
      "\n"
     ]
    },
    {
     "data": {
      "text/html": [
       "<div>\n",
       "<style scoped>\n",
       "    .dataframe tbody tr th:only-of-type {\n",
       "        vertical-align: middle;\n",
       "    }\n",
       "\n",
       "    .dataframe tbody tr th {\n",
       "        vertical-align: top;\n",
       "    }\n",
       "\n",
       "    .dataframe thead th {\n",
       "        text-align: right;\n",
       "    }\n",
       "</style>\n",
       "<table border=\"1\" class=\"dataframe\">\n",
       "  <thead>\n",
       "    <tr style=\"text-align: right;\">\n",
       "      <th></th>\n",
       "      <th>RoundID</th>\n",
       "      <th>MatchID</th>\n",
       "      <th>Team Initials</th>\n",
       "      <th>Coach Name</th>\n",
       "      <th>Line-up</th>\n",
       "      <th>Shirt Number</th>\n",
       "      <th>Player Name</th>\n",
       "      <th>Position</th>\n",
       "      <th>Event</th>\n",
       "    </tr>\n",
       "  </thead>\n",
       "  <tbody>\n",
       "    <tr>\n",
       "      <th>0</th>\n",
       "      <td>201</td>\n",
       "      <td>1096</td>\n",
       "      <td>FRA</td>\n",
       "      <td>CAUDRON Raoul (FRA)</td>\n",
       "      <td>S</td>\n",
       "      <td>0</td>\n",
       "      <td>Alex THEPOT</td>\n",
       "      <td>GK</td>\n",
       "      <td>NaN</td>\n",
       "    </tr>\n",
       "    <tr>\n",
       "      <th>1</th>\n",
       "      <td>201</td>\n",
       "      <td>1096</td>\n",
       "      <td>MEX</td>\n",
       "      <td>LUQUE Juan (MEX)</td>\n",
       "      <td>S</td>\n",
       "      <td>0</td>\n",
       "      <td>Oscar BONFIGLIO</td>\n",
       "      <td>GK</td>\n",
       "      <td>NaN</td>\n",
       "    </tr>\n",
       "    <tr>\n",
       "      <th>2</th>\n",
       "      <td>201</td>\n",
       "      <td>1096</td>\n",
       "      <td>FRA</td>\n",
       "      <td>CAUDRON Raoul (FRA)</td>\n",
       "      <td>S</td>\n",
       "      <td>0</td>\n",
       "      <td>Marcel LANGILLER</td>\n",
       "      <td>NaN</td>\n",
       "      <td>G40'</td>\n",
       "    </tr>\n",
       "    <tr>\n",
       "      <th>3</th>\n",
       "      <td>201</td>\n",
       "      <td>1096</td>\n",
       "      <td>MEX</td>\n",
       "      <td>LUQUE Juan (MEX)</td>\n",
       "      <td>S</td>\n",
       "      <td>0</td>\n",
       "      <td>Juan CARRENO</td>\n",
       "      <td>NaN</td>\n",
       "      <td>G70'</td>\n",
       "    </tr>\n",
       "    <tr>\n",
       "      <th>4</th>\n",
       "      <td>201</td>\n",
       "      <td>1096</td>\n",
       "      <td>FRA</td>\n",
       "      <td>CAUDRON Raoul (FRA)</td>\n",
       "      <td>S</td>\n",
       "      <td>0</td>\n",
       "      <td>Ernest LIBERATI</td>\n",
       "      <td>NaN</td>\n",
       "      <td>NaN</td>\n",
       "    </tr>\n",
       "  </tbody>\n",
       "</table>\n",
       "</div>"
      ],
      "text/plain": [
       "   RoundID  MatchID Team Initials           Coach Name Line-up  Shirt Number  \\\n",
       "0      201     1096           FRA  CAUDRON Raoul (FRA)       S             0   \n",
       "1      201     1096           MEX     LUQUE Juan (MEX)       S             0   \n",
       "2      201     1096           FRA  CAUDRON Raoul (FRA)       S             0   \n",
       "3      201     1096           MEX     LUQUE Juan (MEX)       S             0   \n",
       "4      201     1096           FRA  CAUDRON Raoul (FRA)       S             0   \n",
       "\n",
       "        Player Name Position Event  \n",
       "0       Alex THEPOT       GK   NaN  \n",
       "1   Oscar BONFIGLIO       GK   NaN  \n",
       "2  Marcel LANGILLER      NaN  G40'  \n",
       "3      Juan CARRENO      NaN  G70'  \n",
       "4   Ernest LIBERATI      NaN   NaN  "
      ]
     },
     "metadata": {},
     "output_type": "display_data"
    },
    {
     "name": "stdout",
     "output_type": "stream",
     "text": [
      "\n",
      "\n"
     ]
    },
    {
     "data": {
      "text/html": [
       "<div>\n",
       "<style scoped>\n",
       "    .dataframe tbody tr th:only-of-type {\n",
       "        vertical-align: middle;\n",
       "    }\n",
       "\n",
       "    .dataframe tbody tr th {\n",
       "        vertical-align: top;\n",
       "    }\n",
       "\n",
       "    .dataframe thead th {\n",
       "        text-align: right;\n",
       "    }\n",
       "</style>\n",
       "<table border=\"1\" class=\"dataframe\">\n",
       "  <thead>\n",
       "    <tr style=\"text-align: right;\">\n",
       "      <th></th>\n",
       "      <th>Year</th>\n",
       "      <th>Country</th>\n",
       "      <th>Winner</th>\n",
       "      <th>Runners-Up</th>\n",
       "      <th>Third</th>\n",
       "      <th>Fourth</th>\n",
       "      <th>GoalsScored</th>\n",
       "      <th>QualifiedTeams</th>\n",
       "      <th>MatchesPlayed</th>\n",
       "      <th>Attendance</th>\n",
       "    </tr>\n",
       "  </thead>\n",
       "  <tbody>\n",
       "    <tr>\n",
       "      <th>0</th>\n",
       "      <td>1930</td>\n",
       "      <td>Uruguay</td>\n",
       "      <td>Uruguay</td>\n",
       "      <td>Argentina</td>\n",
       "      <td>USA</td>\n",
       "      <td>Yugoslavia</td>\n",
       "      <td>70</td>\n",
       "      <td>13</td>\n",
       "      <td>18</td>\n",
       "      <td>590.549</td>\n",
       "    </tr>\n",
       "    <tr>\n",
       "      <th>1</th>\n",
       "      <td>1934</td>\n",
       "      <td>Italy</td>\n",
       "      <td>Italy</td>\n",
       "      <td>Czechoslovakia</td>\n",
       "      <td>Germany</td>\n",
       "      <td>Austria</td>\n",
       "      <td>70</td>\n",
       "      <td>16</td>\n",
       "      <td>17</td>\n",
       "      <td>363.000</td>\n",
       "    </tr>\n",
       "    <tr>\n",
       "      <th>2</th>\n",
       "      <td>1938</td>\n",
       "      <td>France</td>\n",
       "      <td>Italy</td>\n",
       "      <td>Hungary</td>\n",
       "      <td>Brazil</td>\n",
       "      <td>Sweden</td>\n",
       "      <td>84</td>\n",
       "      <td>15</td>\n",
       "      <td>18</td>\n",
       "      <td>375.700</td>\n",
       "    </tr>\n",
       "    <tr>\n",
       "      <th>3</th>\n",
       "      <td>1950</td>\n",
       "      <td>Brazil</td>\n",
       "      <td>Uruguay</td>\n",
       "      <td>Brazil</td>\n",
       "      <td>Sweden</td>\n",
       "      <td>Spain</td>\n",
       "      <td>88</td>\n",
       "      <td>13</td>\n",
       "      <td>22</td>\n",
       "      <td>1.045.246</td>\n",
       "    </tr>\n",
       "    <tr>\n",
       "      <th>4</th>\n",
       "      <td>1954</td>\n",
       "      <td>Switzerland</td>\n",
       "      <td>Germany FR</td>\n",
       "      <td>Hungary</td>\n",
       "      <td>Austria</td>\n",
       "      <td>Uruguay</td>\n",
       "      <td>140</td>\n",
       "      <td>16</td>\n",
       "      <td>26</td>\n",
       "      <td>768.607</td>\n",
       "    </tr>\n",
       "  </tbody>\n",
       "</table>\n",
       "</div>"
      ],
      "text/plain": [
       "   Year      Country      Winner      Runners-Up    Third      Fourth  \\\n",
       "0  1930      Uruguay     Uruguay       Argentina      USA  Yugoslavia   \n",
       "1  1934        Italy       Italy  Czechoslovakia  Germany     Austria   \n",
       "2  1938       France       Italy         Hungary   Brazil      Sweden   \n",
       "3  1950       Brazil     Uruguay          Brazil   Sweden       Spain   \n",
       "4  1954  Switzerland  Germany FR         Hungary  Austria     Uruguay   \n",
       "\n",
       "   GoalsScored  QualifiedTeams  MatchesPlayed Attendance  \n",
       "0           70              13             18    590.549  \n",
       "1           70              16             17    363.000  \n",
       "2           84              15             18    375.700  \n",
       "3           88              13             22  1.045.246  \n",
       "4          140              16             26    768.607  "
      ]
     },
     "metadata": {},
     "output_type": "display_data"
    }
   ],
   "source": [
    "# Exibindo as 5 primeiras linhas do conjunto de dados\n",
    "display(wc_jogos.head())\n",
    "print(\"\\n\")\n",
    "display(wc_players.head())\n",
    "print(\"\\n\")\n",
    "display(wc.head())"
   ]
  },
  {
   "cell_type": "code",
   "execution_count": 58,
   "metadata": {},
   "outputs": [
    {
     "name": "stdout",
     "output_type": "stream",
     "text": [
      "Quantidade de linhas e colunas do conjunto de dados de jogos: (4572, 20)\n",
      "Quantidade de linhas e colunas do conjunto de dados de jogadores: (37784, 9)\n",
      "Quantidade de linhas e colunas do conjunto de dados de copas: (20, 10)\n"
     ]
    }
   ],
   "source": [
    "# Verificando a quantidade de linhas e colunas do conjunto de dados\n",
    "print(f\"Quantidade de linhas e colunas do conjunto de dados de jogos: {wc_jogos.shape}\")\n",
    "print(f\"Quantidade de linhas e colunas do conjunto de dados de jogadores: {wc_players.shape}\")\n",
    "print(f\"Quantidade de linhas e colunas do conjunto de dados de copas: {wc.shape}\")\n"
   ]
  },
  {
   "cell_type": "code",
   "execution_count": 59,
   "metadata": {},
   "outputs": [
    {
     "name": "stdout",
     "output_type": "stream",
     "text": [
      "Dataset dos Jogos\n",
      "<class 'pandas.core.frame.DataFrame'>\n",
      "RangeIndex: 4572 entries, 0 to 4571\n",
      "Data columns (total 20 columns):\n",
      " #   Column                Non-Null Count  Dtype  \n",
      "---  ------                --------------  -----  \n",
      " 0   Year                  852 non-null    float64\n",
      " 1   Datetime              852 non-null    object \n",
      " 2   Stage                 852 non-null    object \n",
      " 3   Stadium               852 non-null    object \n",
      " 4   City                  852 non-null    object \n",
      " 5   Home Team Name        852 non-null    object \n",
      " 6   Home Team Goals       852 non-null    float64\n",
      " 7   Away Team Goals       852 non-null    float64\n",
      " 8   Away Team Name        852 non-null    object \n",
      " 9   Win conditions        852 non-null    object \n",
      " 10  Attendance            850 non-null    float64\n",
      " 11  Half-time Home Goals  852 non-null    float64\n",
      " 12  Half-time Away Goals  852 non-null    float64\n",
      " 13  Referee               852 non-null    object \n",
      " 14  Assistant 1           852 non-null    object \n",
      " 15  Assistant 2           852 non-null    object \n",
      " 16  RoundID               852 non-null    float64\n",
      " 17  MatchID               852 non-null    float64\n",
      " 18  Home Team Initials    852 non-null    object \n",
      " 19  Away Team Initials    852 non-null    object \n",
      "dtypes: float64(8), object(12)\n",
      "memory usage: 714.5+ KB\n"
     ]
    },
    {
     "data": {
      "text/plain": [
       "None"
      ]
     },
     "metadata": {},
     "output_type": "display_data"
    },
    {
     "name": "stdout",
     "output_type": "stream",
     "text": [
      "\n",
      " Dataset dos Jogadores\n",
      "<class 'pandas.core.frame.DataFrame'>\n",
      "RangeIndex: 37784 entries, 0 to 37783\n",
      "Data columns (total 9 columns):\n",
      " #   Column         Non-Null Count  Dtype \n",
      "---  ------         --------------  ----- \n",
      " 0   RoundID        37784 non-null  int64 \n",
      " 1   MatchID        37784 non-null  int64 \n",
      " 2   Team Initials  37784 non-null  object\n",
      " 3   Coach Name     37784 non-null  object\n",
      " 4   Line-up        37784 non-null  object\n",
      " 5   Shirt Number   37784 non-null  int64 \n",
      " 6   Player Name    37784 non-null  object\n",
      " 7   Position       4143 non-null   object\n",
      " 8   Event          9069 non-null   object\n",
      "dtypes: int64(3), object(6)\n",
      "memory usage: 2.6+ MB\n"
     ]
    },
    {
     "data": {
      "text/plain": [
       "None"
      ]
     },
     "metadata": {},
     "output_type": "display_data"
    },
    {
     "name": "stdout",
     "output_type": "stream",
     "text": [
      "\n",
      " Dataset das Copas\n",
      "<class 'pandas.core.frame.DataFrame'>\n",
      "RangeIndex: 20 entries, 0 to 19\n",
      "Data columns (total 10 columns):\n",
      " #   Column          Non-Null Count  Dtype \n",
      "---  ------          --------------  ----- \n",
      " 0   Year            20 non-null     int64 \n",
      " 1   Country         20 non-null     object\n",
      " 2   Winner          20 non-null     object\n",
      " 3   Runners-Up      20 non-null     object\n",
      " 4   Third           20 non-null     object\n",
      " 5   Fourth          20 non-null     object\n",
      " 6   GoalsScored     20 non-null     int64 \n",
      " 7   QualifiedTeams  20 non-null     int64 \n",
      " 8   MatchesPlayed   20 non-null     int64 \n",
      " 9   Attendance      20 non-null     object\n",
      "dtypes: int64(4), object(6)\n",
      "memory usage: 1.7+ KB\n"
     ]
    },
    {
     "data": {
      "text/plain": [
       "None"
      ]
     },
     "metadata": {},
     "output_type": "display_data"
    }
   ],
   "source": [
    "# Mostrando informações sobre as colunas e os tiipos de dados dos 3 datasets\n",
    "print(\"Dataset dos Jogos\")\n",
    "display(wc_jogos.info())\n",
    "print(\"\\n Dataset dos Jogadores\")\n",
    "display(wc_players.info())\n",
    "print(\"\\n Dataset das Copas\")\n",
    "display(wc.info())"
   ]
  },
  {
   "cell_type": "markdown",
   "metadata": {},
   "source": [
    "É muito importante começar sempre observando as informações do dataset de estudo, pois é aqui que temos uma visão geral do que estou lidando, se há valores nulos no dataset e o tipo de dados das colunas."
   ]
  },
  {
   "cell_type": "markdown",
   "metadata": {},
   "source": [
    "# Tratando os nulos do dataset dos jogos"
   ]
  },
  {
   "cell_type": "code",
   "execution_count": 60,
   "metadata": {},
   "outputs": [
    {
     "data": {
      "text/plain": [
       "Year                    3720\n",
       "Datetime                3720\n",
       "Stage                   3720\n",
       "Stadium                 3720\n",
       "City                    3720\n",
       "Home Team Name          3720\n",
       "Home Team Goals         3720\n",
       "Away Team Goals         3720\n",
       "Away Team Name          3720\n",
       "Win conditions          3720\n",
       "Attendance              3722\n",
       "Half-time Home Goals    3720\n",
       "Half-time Away Goals    3720\n",
       "Referee                 3720\n",
       "Assistant 1             3720\n",
       "Assistant 2             3720\n",
       "RoundID                 3720\n",
       "MatchID                 3720\n",
       "Home Team Initials      3720\n",
       "Away Team Initials      3720\n",
       "dtype: int64"
      ]
     },
     "execution_count": 60,
     "metadata": {},
     "output_type": "execute_result"
    }
   ],
   "source": [
    "# Verificando as colunas de wc_jogos que tem nulos \n",
    "wc_jogos.isnull().sum()"
   ]
  },
  {
   "cell_type": "markdown",
   "metadata": {},
   "source": [
    "Podemos ver que há nulos em todas as colunas do dataset dos jogos da Copa do mundo."
   ]
  },
  {
   "cell_type": "code",
   "execution_count": 61,
   "metadata": {},
   "outputs": [
    {
     "data": {
      "text/html": [
       "<div>\n",
       "<style scoped>\n",
       "    .dataframe tbody tr th:only-of-type {\n",
       "        vertical-align: middle;\n",
       "    }\n",
       "\n",
       "    .dataframe tbody tr th {\n",
       "        vertical-align: top;\n",
       "    }\n",
       "\n",
       "    .dataframe thead th {\n",
       "        text-align: right;\n",
       "    }\n",
       "</style>\n",
       "<table border=\"1\" class=\"dataframe\">\n",
       "  <thead>\n",
       "    <tr style=\"text-align: right;\">\n",
       "      <th></th>\n",
       "      <th>Year</th>\n",
       "      <th>Datetime</th>\n",
       "      <th>Stage</th>\n",
       "      <th>Stadium</th>\n",
       "      <th>City</th>\n",
       "      <th>Home Team Name</th>\n",
       "      <th>Home Team Goals</th>\n",
       "      <th>Away Team Goals</th>\n",
       "      <th>Away Team Name</th>\n",
       "      <th>Win conditions</th>\n",
       "      <th>Attendance</th>\n",
       "      <th>Half-time Home Goals</th>\n",
       "      <th>Half-time Away Goals</th>\n",
       "      <th>Referee</th>\n",
       "      <th>Assistant 1</th>\n",
       "      <th>Assistant 2</th>\n",
       "      <th>RoundID</th>\n",
       "      <th>MatchID</th>\n",
       "      <th>Home Team Initials</th>\n",
       "      <th>Away Team Initials</th>\n",
       "    </tr>\n",
       "  </thead>\n",
       "  <tbody>\n",
       "    <tr>\n",
       "      <th>4567</th>\n",
       "      <td>NaN</td>\n",
       "      <td>NaN</td>\n",
       "      <td>NaN</td>\n",
       "      <td>NaN</td>\n",
       "      <td>NaN</td>\n",
       "      <td>NaN</td>\n",
       "      <td>NaN</td>\n",
       "      <td>NaN</td>\n",
       "      <td>NaN</td>\n",
       "      <td>NaN</td>\n",
       "      <td>NaN</td>\n",
       "      <td>NaN</td>\n",
       "      <td>NaN</td>\n",
       "      <td>NaN</td>\n",
       "      <td>NaN</td>\n",
       "      <td>NaN</td>\n",
       "      <td>NaN</td>\n",
       "      <td>NaN</td>\n",
       "      <td>NaN</td>\n",
       "      <td>NaN</td>\n",
       "    </tr>\n",
       "    <tr>\n",
       "      <th>4568</th>\n",
       "      <td>NaN</td>\n",
       "      <td>NaN</td>\n",
       "      <td>NaN</td>\n",
       "      <td>NaN</td>\n",
       "      <td>NaN</td>\n",
       "      <td>NaN</td>\n",
       "      <td>NaN</td>\n",
       "      <td>NaN</td>\n",
       "      <td>NaN</td>\n",
       "      <td>NaN</td>\n",
       "      <td>NaN</td>\n",
       "      <td>NaN</td>\n",
       "      <td>NaN</td>\n",
       "      <td>NaN</td>\n",
       "      <td>NaN</td>\n",
       "      <td>NaN</td>\n",
       "      <td>NaN</td>\n",
       "      <td>NaN</td>\n",
       "      <td>NaN</td>\n",
       "      <td>NaN</td>\n",
       "    </tr>\n",
       "    <tr>\n",
       "      <th>4569</th>\n",
       "      <td>NaN</td>\n",
       "      <td>NaN</td>\n",
       "      <td>NaN</td>\n",
       "      <td>NaN</td>\n",
       "      <td>NaN</td>\n",
       "      <td>NaN</td>\n",
       "      <td>NaN</td>\n",
       "      <td>NaN</td>\n",
       "      <td>NaN</td>\n",
       "      <td>NaN</td>\n",
       "      <td>NaN</td>\n",
       "      <td>NaN</td>\n",
       "      <td>NaN</td>\n",
       "      <td>NaN</td>\n",
       "      <td>NaN</td>\n",
       "      <td>NaN</td>\n",
       "      <td>NaN</td>\n",
       "      <td>NaN</td>\n",
       "      <td>NaN</td>\n",
       "      <td>NaN</td>\n",
       "    </tr>\n",
       "    <tr>\n",
       "      <th>4570</th>\n",
       "      <td>NaN</td>\n",
       "      <td>NaN</td>\n",
       "      <td>NaN</td>\n",
       "      <td>NaN</td>\n",
       "      <td>NaN</td>\n",
       "      <td>NaN</td>\n",
       "      <td>NaN</td>\n",
       "      <td>NaN</td>\n",
       "      <td>NaN</td>\n",
       "      <td>NaN</td>\n",
       "      <td>NaN</td>\n",
       "      <td>NaN</td>\n",
       "      <td>NaN</td>\n",
       "      <td>NaN</td>\n",
       "      <td>NaN</td>\n",
       "      <td>NaN</td>\n",
       "      <td>NaN</td>\n",
       "      <td>NaN</td>\n",
       "      <td>NaN</td>\n",
       "      <td>NaN</td>\n",
       "    </tr>\n",
       "    <tr>\n",
       "      <th>4571</th>\n",
       "      <td>NaN</td>\n",
       "      <td>NaN</td>\n",
       "      <td>NaN</td>\n",
       "      <td>NaN</td>\n",
       "      <td>NaN</td>\n",
       "      <td>NaN</td>\n",
       "      <td>NaN</td>\n",
       "      <td>NaN</td>\n",
       "      <td>NaN</td>\n",
       "      <td>NaN</td>\n",
       "      <td>NaN</td>\n",
       "      <td>NaN</td>\n",
       "      <td>NaN</td>\n",
       "      <td>NaN</td>\n",
       "      <td>NaN</td>\n",
       "      <td>NaN</td>\n",
       "      <td>NaN</td>\n",
       "      <td>NaN</td>\n",
       "      <td>NaN</td>\n",
       "      <td>NaN</td>\n",
       "    </tr>\n",
       "  </tbody>\n",
       "</table>\n",
       "</div>"
      ],
      "text/plain": [
       "      Year Datetime Stage Stadium City Home Team Name  Home Team Goals  \\\n",
       "4567   NaN      NaN   NaN     NaN  NaN            NaN              NaN   \n",
       "4568   NaN      NaN   NaN     NaN  NaN            NaN              NaN   \n",
       "4569   NaN      NaN   NaN     NaN  NaN            NaN              NaN   \n",
       "4570   NaN      NaN   NaN     NaN  NaN            NaN              NaN   \n",
       "4571   NaN      NaN   NaN     NaN  NaN            NaN              NaN   \n",
       "\n",
       "      Away Team Goals Away Team Name Win conditions  Attendance  \\\n",
       "4567              NaN            NaN            NaN         NaN   \n",
       "4568              NaN            NaN            NaN         NaN   \n",
       "4569              NaN            NaN            NaN         NaN   \n",
       "4570              NaN            NaN            NaN         NaN   \n",
       "4571              NaN            NaN            NaN         NaN   \n",
       "\n",
       "      Half-time Home Goals  Half-time Away Goals Referee Assistant 1  \\\n",
       "4567                   NaN                   NaN     NaN         NaN   \n",
       "4568                   NaN                   NaN     NaN         NaN   \n",
       "4569                   NaN                   NaN     NaN         NaN   \n",
       "4570                   NaN                   NaN     NaN         NaN   \n",
       "4571                   NaN                   NaN     NaN         NaN   \n",
       "\n",
       "     Assistant 2  RoundID  MatchID Home Team Initials Away Team Initials  \n",
       "4567         NaN      NaN      NaN                NaN                NaN  \n",
       "4568         NaN      NaN      NaN                NaN                NaN  \n",
       "4569         NaN      NaN      NaN                NaN                NaN  \n",
       "4570         NaN      NaN      NaN                NaN                NaN  \n",
       "4571         NaN      NaN      NaN                NaN                NaN  "
      ]
     },
     "execution_count": 61,
     "metadata": {},
     "output_type": "execute_result"
    }
   ],
   "source": [
    "# Verificando as 10 últimas linhas do dataset wc_jogos\n",
    "wc_jogos.tail()"
   ]
  },
  {
   "cell_type": "markdown",
   "metadata": {},
   "source": [
    "Note que observando o final do dataset, há muitas linhas completamente vazias que vão atrapalhar a análise."
   ]
  },
  {
   "cell_type": "code",
   "execution_count": 62,
   "metadata": {},
   "outputs": [],
   "source": [
    "# Eliminando as linhas que possuem todos os valores nulos\n",
    "wc_jogos = wc_jogos.dropna(how='all')"
   ]
  },
  {
   "cell_type": "markdown",
   "metadata": {},
   "source": [
    "Percebi que no final do dataset wc_jogos havia diversas linhas completamente vazias, por isso resolvi deletá-las. Usando `how='all'` dentro de dropna, me certifico que só será excluído apenas as linhas que esão totalmente vazias, sem perder nenhuma informação importante."
   ]
  },
  {
   "cell_type": "code",
   "execution_count": 63,
   "metadata": {},
   "outputs": [
    {
     "data": {
      "text/plain": [
       "Year                    0\n",
       "Datetime                0\n",
       "Stage                   0\n",
       "Stadium                 0\n",
       "City                    0\n",
       "Home Team Name          0\n",
       "Home Team Goals         0\n",
       "Away Team Goals         0\n",
       "Away Team Name          0\n",
       "Win conditions          0\n",
       "Attendance              2\n",
       "Half-time Home Goals    0\n",
       "Half-time Away Goals    0\n",
       "Referee                 0\n",
       "Assistant 1             0\n",
       "Assistant 2             0\n",
       "RoundID                 0\n",
       "MatchID                 0\n",
       "Home Team Initials      0\n",
       "Away Team Initials      0\n",
       "dtype: int64"
      ]
     },
     "execution_count": 63,
     "metadata": {},
     "output_type": "execute_result"
    }
   ],
   "source": [
    "# Verificando nulos após o tratamento\n",
    "wc_jogos.isnull().sum()"
   ]
  },
  {
   "cell_type": "markdown",
   "metadata": {},
   "source": [
    "Aṕos o tratamento removendo as linhas sem informações, ainda temos dois valores nulos na coluna `Attendance`."
   ]
  },
  {
   "cell_type": "code",
   "execution_count": 64,
   "metadata": {},
   "outputs": [
    {
     "data": {
      "image/png": "[encoded data removed]",
      "text/plain": [
       "<Figure size 1200x800 with 1 Axes>"
      ]
     },
     "metadata": {},
     "output_type": "display_data"
    }
   ],
   "source": [
    "# Boxplot para verificar a distribuição do público\n",
    "plt.figure(figsize=(12,8))\n",
    "sns.boxplot(y='Attendance', data=wc_jogos, showmeans=True)\n",
    "plt.title(\"Distribuição do Público nos Jogos\", fontsize=16)\n",
    "plt.xlabel(\"Público\")\n",
    "plt.ylabel(\"Quantidade\")\n",
    "plt.tight_layout()\n",
    "plt.show();"
   ]
  },
  {
   "cell_type": "markdown",
   "metadata": {},
   "source": [
    "Este boxplot nos ajuda a entender a distribuição dos valores na coluna Attendance. O foco é visualizar a mediana dessa coluna, que representa o valor central (50%) dos dados. Além disso, podemos observar que a média está acima da mediana, o que é compreensível, já que há diversos valores acima do limite máximo (outliers). Esses outliers elevam a média, pois ela é sensível a valores extremos. Essa informação será útil para tratar os dois valores nulos da coluna de forma eficiente."
   ]
  },
  {
   "cell_type": "code",
   "execution_count": 65,
   "metadata": {},
   "outputs": [
    {
     "name": "stdout",
     "output_type": "stream",
     "text": [
      "Mediana do público nos jogos: 41579.5\n"
     ]
    }
   ],
   "source": [
    "# Veificando o valor da mediana e fazendo o tratamento dos nulos com a mediana\n",
    "mediana_jogos = wc_jogos['Attendance'].median()\n",
    "print(f\"Mediana do público nos jogos: {mediana_jogos}\")\n",
    "wc_jogos['Attendance'] = wc_jogos['Attendance'].fillna(mediana_jogos)"
   ]
  },
  {
   "cell_type": "markdown",
   "metadata": {},
   "source": [
    "Neste caso, para os valores nulos da coluna `Attendance`, optei por usar a mediana. O motivo foi porque a mediana é uma medida de tendência central mais robusta que a média e resistente a outliers.\n"
   ]
  },
  {
   "cell_type": "code",
   "execution_count": 66,
   "metadata": {},
   "outputs": [
    {
     "data": {
      "text/plain": [
       "Year                    0\n",
       "Datetime                0\n",
       "Stage                   0\n",
       "Stadium                 0\n",
       "City                    0\n",
       "Home Team Name          0\n",
       "Home Team Goals         0\n",
       "Away Team Goals         0\n",
       "Away Team Name          0\n",
       "Win conditions          0\n",
       "Attendance              0\n",
       "Half-time Home Goals    0\n",
       "Half-time Away Goals    0\n",
       "Referee                 0\n",
       "Assistant 1             0\n",
       "Assistant 2             0\n",
       "RoundID                 0\n",
       "MatchID                 0\n",
       "Home Team Initials      0\n",
       "Away Team Initials      0\n",
       "dtype: int64"
      ]
     },
     "execution_count": 66,
     "metadata": {},
     "output_type": "execute_result"
    }
   ],
   "source": [
    "# Coluna Attendance tratada\n",
    "wc_jogos.isnull().sum()"
   ]
  },
  {
   "cell_type": "markdown",
   "metadata": {},
   "source": [
    "O dataset wc_jogos foi devidamente tratado e não apresenta mais valores nulos."
   ]
  },
  {
   "cell_type": "markdown",
   "metadata": {},
   "source": [
    "# Tratando os nulos do dataset dos jogadores"
   ]
  },
  {
   "cell_type": "code",
   "execution_count": 67,
   "metadata": {},
   "outputs": [
    {
     "data": {
      "text/plain": [
       "RoundID              0\n",
       "MatchID              0\n",
       "Team Initials        0\n",
       "Coach Name           0\n",
       "Line-up              0\n",
       "Shirt Number         0\n",
       "Player Name          0\n",
       "Position         33641\n",
       "Event            28715\n",
       "dtype: int64"
      ]
     },
     "execution_count": 67,
     "metadata": {},
     "output_type": "execute_result"
    }
   ],
   "source": [
    "# Verificando nulos do dataset wc_players\n",
    "wc_players.isnull().sum()"
   ]
  },
  {
   "cell_type": "markdown",
   "metadata": {},
   "source": [
    "Podemos observar que no dataset wc_players, temos nulos em duas colunas, `Position` e `Event`."
   ]
  },
  {
   "cell_type": "code",
   "execution_count": 68,
   "metadata": {},
   "outputs": [
    {
     "data": {
      "text/plain": [
       "array(['GK', nan, 'C', 'GKC'], dtype=object)"
      ]
     },
     "execution_count": 68,
     "metadata": {},
     "output_type": "execute_result"
    }
   ],
   "source": [
    "# Descobrindo quais são os valores únicos das colunas que Position\n",
    "wc_players[\"Position\"].unique()"
   ]
  },
  {
   "cell_type": "markdown",
   "metadata": {},
   "source": [
    "Olhando os valores únicos da coluna Position, fica claro que não é possível preencher os valores nulos com bfill() ou ffill() porque a quantidade de valores únicos não é suficiente e isso geraria informações falsas."
   ]
  },
  {
   "cell_type": "code",
   "execution_count": 69,
   "metadata": {},
   "outputs": [],
   "source": [
    "# tratando coluna Position\n",
    "wc_players[\"Position\"] = wc_players[\"Position\"].fillna(\"Desconhecido\")"
   ]
  },
  {
   "cell_type": "markdown",
   "metadata": {},
   "source": [
    "Após análise dos valores únicos, entendi que a melhor opção era criar uma nova informação para os valores nulos da coluna Position. Esse valor é 'Desconhecido', pois dessa forma conseguimos fazer o tratamento de maneira eficiente sem adicionar informações falsas."
   ]
  },
  {
   "cell_type": "code",
   "execution_count": 70,
   "metadata": {},
   "outputs": [
    {
     "data": {
      "text/plain": [
       "array([nan, \"G40'\", \"G70'\", ..., \"I66' Y73'\", \"I91' G105'\", \"I105' G107'\"],\n",
       "      dtype=object)"
      ]
     },
     "execution_count": 70,
     "metadata": {},
     "output_type": "execute_result"
    }
   ],
   "source": [
    "# Descobrindo os valores únicos da coluna Event\n",
    "wc_players[\"Event\"].unique()"
   ]
  },
  {
   "cell_type": "markdown",
   "metadata": {},
   "source": [
    "A coluna Event possui um grande número de valores únicos, eles são bem variados, por isso, similar a coluna Position, preencher os nulos com bfill() ou ffill() não é a melhor opção, pois corremos o risco de adicionar informações erradas no dataset."
   ]
  },
  {
   "cell_type": "code",
   "execution_count": 71,
   "metadata": {},
   "outputs": [],
   "source": [
    "# Tratando coluna Event\n",
    "wc_players[\"Event\"] = wc_players[\"Event\"].fillna(\"Evento Desconhecido\")"
   ]
  },
  {
   "cell_type": "markdown",
   "metadata": {},
   "source": [
    "Evitando informações falsas no dataset, foi criado a informação \"Evento Desconhecido\", dessa forma os nulos são tratados sem perder a integridade das informações."
   ]
  },
  {
   "cell_type": "code",
   "execution_count": 72,
   "metadata": {},
   "outputs": [
    {
     "data": {
      "text/html": [
       "<div>\n",
       "<style scoped>\n",
       "    .dataframe tbody tr th:only-of-type {\n",
       "        vertical-align: middle;\n",
       "    }\n",
       "\n",
       "    .dataframe tbody tr th {\n",
       "        vertical-align: top;\n",
       "    }\n",
       "\n",
       "    .dataframe thead th {\n",
       "        text-align: right;\n",
       "    }\n",
       "</style>\n",
       "<table border=\"1\" class=\"dataframe\">\n",
       "  <thead>\n",
       "    <tr style=\"text-align: right;\">\n",
       "      <th></th>\n",
       "      <th>RoundID</th>\n",
       "      <th>MatchID</th>\n",
       "      <th>Team Initials</th>\n",
       "      <th>Coach Name</th>\n",
       "      <th>Line-up</th>\n",
       "      <th>Shirt Number</th>\n",
       "      <th>Player Name</th>\n",
       "      <th>Position</th>\n",
       "      <th>Event</th>\n",
       "    </tr>\n",
       "  </thead>\n",
       "  <tbody>\n",
       "    <tr>\n",
       "      <th>6992</th>\n",
       "      <td>514</td>\n",
       "      <td>1559</td>\n",
       "      <td>YUG</td>\n",
       "      <td>LOVRIC Ljubomir (YUG)</td>\n",
       "      <td>S</td>\n",
       "      <td>6</td>\n",
       "      <td>Vladimir POPOVIC</td>\n",
       "      <td>Desconhecido</td>\n",
       "      <td>Evento Desconhecido</td>\n",
       "    </tr>\n",
       "    <tr>\n",
       "      <th>75</th>\n",
       "      <td>201</td>\n",
       "      <td>1093</td>\n",
       "      <td>YUG</td>\n",
       "      <td>SIMONOVIC Bosko (YUG)</td>\n",
       "      <td>S</td>\n",
       "      <td>0</td>\n",
       "      <td>Momcilo DJOKIC</td>\n",
       "      <td>Desconhecido</td>\n",
       "      <td>Evento Desconhecido</td>\n",
       "    </tr>\n",
       "    <tr>\n",
       "      <th>21023</th>\n",
       "      <td>337</td>\n",
       "      <td>3067</td>\n",
       "      <td>CMR</td>\n",
       "      <td>MICHEL Henri (FRA)</td>\n",
       "      <td>S</td>\n",
       "      <td>15</td>\n",
       "      <td>Hans AGBO</td>\n",
       "      <td>Desconhecido</td>\n",
       "      <td>Evento Desconhecido</td>\n",
       "    </tr>\n",
       "    <tr>\n",
       "      <th>8306</th>\n",
       "      <td>239</td>\n",
       "      <td>1676</td>\n",
       "      <td>HUN</td>\n",
       "      <td>BAROTI Lajos (HUN)</td>\n",
       "      <td>S</td>\n",
       "      <td>3</td>\n",
       "      <td>Sandor MATRAI</td>\n",
       "      <td>Desconhecido</td>\n",
       "      <td>Evento Desconhecido</td>\n",
       "    </tr>\n",
       "    <tr>\n",
       "      <th>34513</th>\n",
       "      <td>255931</td>\n",
       "      <td>300186494</td>\n",
       "      <td>ECU</td>\n",
       "      <td>RUEDA Reinaldo (COL)</td>\n",
       "      <td>N</td>\n",
       "      <td>19</td>\n",
       "      <td>SARITAMA</td>\n",
       "      <td>Desconhecido</td>\n",
       "      <td>Evento Desconhecido</td>\n",
       "    </tr>\n",
       "  </tbody>\n",
       "</table>\n",
       "</div>"
      ],
      "text/plain": [
       "       RoundID    MatchID Team Initials             Coach Name Line-up  \\\n",
       "6992       514       1559           YUG  LOVRIC Ljubomir (YUG)       S   \n",
       "75         201       1093           YUG  SIMONOVIC Bosko (YUG)       S   \n",
       "21023      337       3067           CMR     MICHEL Henri (FRA)       S   \n",
       "8306       239       1676           HUN     BAROTI Lajos (HUN)       S   \n",
       "34513   255931  300186494           ECU   RUEDA Reinaldo (COL)       N   \n",
       "\n",
       "       Shirt Number       Player Name      Position                Event  \n",
       "6992              6  Vladimir POPOVIC  Desconhecido  Evento Desconhecido  \n",
       "75                0    Momcilo DJOKIC  Desconhecido  Evento Desconhecido  \n",
       "21023            15         Hans AGBO  Desconhecido  Evento Desconhecido  \n",
       "8306              3     Sandor MATRAI  Desconhecido  Evento Desconhecido  \n",
       "34513            19          SARITAMA  Desconhecido  Evento Desconhecido  "
      ]
     },
     "execution_count": 72,
     "metadata": {},
     "output_type": "execute_result"
    }
   ],
   "source": [
    "# Carregando amostra aleatória para visualizar as mudanças\n",
    "wc_players.sample(5)"
   ]
  },
  {
   "cell_type": "code",
   "execution_count": 73,
   "metadata": {},
   "outputs": [
    {
     "data": {
      "text/plain": [
       "RoundID          0\n",
       "MatchID          0\n",
       "Team Initials    0\n",
       "Coach Name       0\n",
       "Line-up          0\n",
       "Shirt Number     0\n",
       "Player Name      0\n",
       "Position         0\n",
       "Event            0\n",
       "dtype: int64"
      ]
     },
     "execution_count": 73,
     "metadata": {},
     "output_type": "execute_result"
    }
   ],
   "source": [
    "# Verificando nulos após o tratamento\n",
    "wc_players.isnull().sum()"
   ]
  },
  {
   "cell_type": "markdown",
   "metadata": {},
   "source": [
    "Após o tratamento feito criando as informações **\"Desconhecido\"** e **\"Evento Desconhecido\"**, o dataset encontra-se livre de valores nulos."
   ]
  },
  {
   "cell_type": "markdown",
   "metadata": {},
   "source": [
    "# Checando se o dataset das copas tem valores nulos"
   ]
  },
  {
   "cell_type": "code",
   "execution_count": 74,
   "metadata": {},
   "outputs": [
    {
     "data": {
      "text/plain": [
       "0"
      ]
     },
     "execution_count": 74,
     "metadata": {},
     "output_type": "execute_result"
    }
   ],
   "source": [
    "# Verificando nulos do dataset wc\n",
    "wc.isnull().sum().sum()"
   ]
  },
  {
   "cell_type": "markdown",
   "metadata": {},
   "source": [
    "Não há necessidade de fazer nenhum tratamento de nulos. O dataset wc (World Cups) não possui valores nulos."
   ]
  },
  {
   "cell_type": "markdown",
   "metadata": {},
   "source": [
    "# Informação importante sobre o tratamento de nulos que realizei ⚠️\n",
    "\n",
    "### Por que não usei `inplace=True` quando tratei os valores nulos?\n",
    "\n",
    "Nas versões futuras do Pandas (a partir da versão 3.0), o uso de `inplace=True` pode causar comportamentos inesperados. Por isso, a funcionalidade será `removida`, e a recomendação é utilizar `atribuição direta` para garantir a compatibilidade e evitar problemas."
   ]
  },
  {
   "cell_type": "markdown",
   "metadata": {},
   "source": [
    "# **Analisando os Dados**"
   ]
  },
  {
   "cell_type": "code",
   "execution_count": 75,
   "metadata": {},
   "outputs": [
    {
     "data": {
      "text/plain": [
       "1930"
      ]
     },
     "metadata": {},
     "output_type": "display_data"
    },
    {
     "data": {
      "text/plain": [
       "2014"
      ]
     },
     "metadata": {},
     "output_type": "display_data"
    }
   ],
   "source": [
    "# Verficando o período de tempo dos dados da Copa do Mundo\n",
    "display(wc['Year'].min())\n",
    "display(wc['Year'].max())"
   ]
  },
  {
   "cell_type": "markdown",
   "metadata": {},
   "source": [
    "Aqui podemos ver que os dados sobre a Copa do Mundo FIFA começa no ano de 1930 e temos dados até 2014."
   ]
  },
  {
   "cell_type": "code",
   "execution_count": 76,
   "metadata": {},
   "outputs": [
    {
     "data": {
      "text/html": [
       "<div>\n",
       "<style scoped>\n",
       "    .dataframe tbody tr th:only-of-type {\n",
       "        vertical-align: middle;\n",
       "    }\n",
       "\n",
       "    .dataframe tbody tr th {\n",
       "        vertical-align: top;\n",
       "    }\n",
       "\n",
       "    .dataframe thead th {\n",
       "        text-align: right;\n",
       "    }\n",
       "</style>\n",
       "<table border=\"1\" class=\"dataframe\">\n",
       "  <thead>\n",
       "    <tr style=\"text-align: right;\">\n",
       "      <th></th>\n",
       "      <th>Year</th>\n",
       "      <th>Datetime</th>\n",
       "      <th>Stage</th>\n",
       "      <th>Stadium</th>\n",
       "      <th>City</th>\n",
       "      <th>Home Team Name</th>\n",
       "      <th>Home Team Goals</th>\n",
       "      <th>Away Team Goals</th>\n",
       "      <th>Away Team Name</th>\n",
       "      <th>Win conditions</th>\n",
       "      <th>...</th>\n",
       "      <th>Home Team Initials</th>\n",
       "      <th>Away Team Initials</th>\n",
       "      <th>RoundID_y</th>\n",
       "      <th>Team Initials</th>\n",
       "      <th>Coach Name</th>\n",
       "      <th>Line-up</th>\n",
       "      <th>Shirt Number</th>\n",
       "      <th>Player Name</th>\n",
       "      <th>Position</th>\n",
       "      <th>Event</th>\n",
       "    </tr>\n",
       "  </thead>\n",
       "  <tbody>\n",
       "    <tr>\n",
       "      <th>0</th>\n",
       "      <td>1930.0</td>\n",
       "      <td>13 Jul 1930 - 15:00</td>\n",
       "      <td>Group 1</td>\n",
       "      <td>Pocitos</td>\n",
       "      <td>Montevideo</td>\n",
       "      <td>France</td>\n",
       "      <td>4.0</td>\n",
       "      <td>1.0</td>\n",
       "      <td>Mexico</td>\n",
       "      <td></td>\n",
       "      <td>...</td>\n",
       "      <td>FRA</td>\n",
       "      <td>MEX</td>\n",
       "      <td>201</td>\n",
       "      <td>FRA</td>\n",
       "      <td>CAUDRON Raoul (FRA)</td>\n",
       "      <td>S</td>\n",
       "      <td>0</td>\n",
       "      <td>Alex THEPOT</td>\n",
       "      <td>GK</td>\n",
       "      <td>Evento Desconhecido</td>\n",
       "    </tr>\n",
       "    <tr>\n",
       "      <th>1</th>\n",
       "      <td>1930.0</td>\n",
       "      <td>13 Jul 1930 - 15:00</td>\n",
       "      <td>Group 1</td>\n",
       "      <td>Pocitos</td>\n",
       "      <td>Montevideo</td>\n",
       "      <td>France</td>\n",
       "      <td>4.0</td>\n",
       "      <td>1.0</td>\n",
       "      <td>Mexico</td>\n",
       "      <td></td>\n",
       "      <td>...</td>\n",
       "      <td>FRA</td>\n",
       "      <td>MEX</td>\n",
       "      <td>201</td>\n",
       "      <td>MEX</td>\n",
       "      <td>LUQUE Juan (MEX)</td>\n",
       "      <td>S</td>\n",
       "      <td>0</td>\n",
       "      <td>Oscar BONFIGLIO</td>\n",
       "      <td>GK</td>\n",
       "      <td>Evento Desconhecido</td>\n",
       "    </tr>\n",
       "  </tbody>\n",
       "</table>\n",
       "<p>2 rows × 28 columns</p>\n",
       "</div>"
      ],
      "text/plain": [
       "     Year              Datetime    Stage  Stadium         City Home Team Name  \\\n",
       "0  1930.0  13 Jul 1930 - 15:00   Group 1  Pocitos  Montevideo          France   \n",
       "1  1930.0  13 Jul 1930 - 15:00   Group 1  Pocitos  Montevideo          France   \n",
       "\n",
       "   Home Team Goals  Away Team Goals Away Team Name Win conditions  ...  \\\n",
       "0              4.0              1.0         Mexico                 ...   \n",
       "1              4.0              1.0         Mexico                 ...   \n",
       "\n",
       "   Home Team Initials  Away Team Initials  RoundID_y Team Initials  \\\n",
       "0                 FRA                 MEX        201           FRA   \n",
       "1                 FRA                 MEX        201           MEX   \n",
       "\n",
       "            Coach Name Line-up  Shirt Number      Player Name Position  \\\n",
       "0  CAUDRON Raoul (FRA)       S             0      Alex THEPOT       GK   \n",
       "1     LUQUE Juan (MEX)       S             0  Oscar BONFIGLIO       GK   \n",
       "\n",
       "                 Event  \n",
       "0  Evento Desconhecido  \n",
       "1  Evento Desconhecido  \n",
       "\n",
       "[2 rows x 28 columns]"
      ]
     },
     "execution_count": 76,
     "metadata": {},
     "output_type": "execute_result"
    }
   ],
   "source": [
    "# Juntando os datasets wc_jogos e wc_players\n",
    "wcs_unidos = pd.merge(wc_jogos, wc_players, on='MatchID', how='left')\n",
    "wcs_unidos.head(2)"
   ]
  },
  {
   "cell_type": "markdown",
   "metadata": {},
   "source": [
    "### Juntando os Datasets de Jogos e Jogadores\n",
    "\n",
    "Neste trecho de código, estamos juntando os datasets de jogos (`wc_jogos`) e jogadores (`wc_players`) usando a coluna `MatchID` como chave comum. A junção será feita à esquerda (`left join`), o que significa que todas as linhas do dataset de jogos serão mantidas, e as informações do dataset de jogadores serão adicionadas onde houver correspondência na coluna `MatchID`.\n"
   ]
  },
  {
   "cell_type": "code",
   "execution_count": 77,
   "metadata": {},
   "outputs": [],
   "source": [
    "# Dividindo os eventos em múltiplas linhas\n",
    "dividir_event = wcs_unidos['Event'].str.split(' ', expand=True).stack().reset_index(level=1, drop=True)\n",
    "wcs_unidos = wcs_unidos.drop(columns=['Event']).join(dividir_event.rename('Event')).reset_index(drop=True)\n"
   ]
  },
  {
   "cell_type": "markdown",
   "metadata": {},
   "source": [
    "Processando a Coluna `Event`\n",
    "Objetivo:\n",
    "- Separar eventos múltiplos (ex.: \"G10' Y25'\") em linhas individuais (\"G10'\" e \"Y25'\") para facilitar a contagem de gols, cartões, etc.\n",
    "\n",
    "Como funciona:\n",
    "\n",
    "Divide os eventos por espaços:\n",
    "\"G10' Y25'\" → vira duas partes: \"G10'\" e \"Y25'\".\n",
    "\n",
    "Cria uma linha para cada parte, replicando os outros dados do jogador.\n",
    "\n",
    "**Remove** a coluna original e **junta** os eventos divididos."
   ]
  },
  {
   "cell_type": "markdown",
   "metadata": {},
   "source": [
    "# Analisando os gols, público, cartões e ofensividade das seleções "
   ]
  },
  {
   "cell_type": "markdown",
   "metadata": {},
   "source": [
    "### Gols"
   ]
  },
  {
   "cell_type": "code",
   "execution_count": 78,
   "metadata": {},
   "outputs": [],
   "source": [
    "# Filtrando os eventos que começam com 'G'\n",
    "gols = wcs_unidos[wcs_unidos['Event'].str.startswith('G')]"
   ]
  },
  {
   "cell_type": "markdown",
   "metadata": {},
   "source": [
    "O objetivo desta célula é filtrar o DataFrame wcs_unidos para mostrar apenas os eventos relacionados a gols. Para isso, utilizamos o método `str.startswith('G')`, que verifica se os valores na coluna Event começam com a letra \"G\", indicando eventos de gol."
   ]
  },
  {
   "cell_type": "code",
   "execution_count": 79,
   "metadata": {},
   "outputs": [
    {
     "data": {
      "text/html": [
       "<div>\n",
       "<style scoped>\n",
       "    .dataframe tbody tr th:only-of-type {\n",
       "        vertical-align: middle;\n",
       "    }\n",
       "\n",
       "    .dataframe tbody tr th {\n",
       "        vertical-align: top;\n",
       "    }\n",
       "\n",
       "    .dataframe thead th {\n",
       "        text-align: right;\n",
       "    }\n",
       "</style>\n",
       "<table border=\"1\" class=\"dataframe\">\n",
       "  <thead>\n",
       "    <tr style=\"text-align: right;\">\n",
       "      <th></th>\n",
       "      <th>Player Name</th>\n",
       "      <th>Team Initials</th>\n",
       "      <th>Year</th>\n",
       "      <th>Gols</th>\n",
       "    </tr>\n",
       "  </thead>\n",
       "  <tbody>\n",
       "    <tr>\n",
       "      <th>0</th>\n",
       "      <td>A. AYEW</td>\n",
       "      <td>GHA</td>\n",
       "      <td>2014.0</td>\n",
       "      <td>2</td>\n",
       "    </tr>\n",
       "    <tr>\n",
       "      <th>1</th>\n",
       "      <td>A. DELGADO</td>\n",
       "      <td>ECU</td>\n",
       "      <td>2006.0</td>\n",
       "      <td>2</td>\n",
       "    </tr>\n",
       "    <tr>\n",
       "      <th>2</th>\n",
       "      <td>A. GUARDADO</td>\n",
       "      <td>MEX</td>\n",
       "      <td>2014.0</td>\n",
       "      <td>1</td>\n",
       "    </tr>\n",
       "  </tbody>\n",
       "</table>\n",
       "</div>"
      ],
      "text/plain": [
       "   Player Name Team Initials    Year  Gols\n",
       "0      A. AYEW           GHA  2014.0     2\n",
       "1   A. DELGADO           ECU  2006.0     2\n",
       "2  A. GUARDADO           MEX  2014.0     1"
      ]
     },
     "execution_count": 79,
     "metadata": {},
     "output_type": "execute_result"
    }
   ],
   "source": [
    "# Agrupando os gols por jogador, time e ano\n",
    "gols_por_player= gols.groupby(['Player Name', 'Team Initials','Year'])['Event'].count().reset_index(name= 'Gols')\n",
    "gols_por_player.head(3)"
   ]
  },
  {
   "cell_type": "markdown",
   "metadata": {},
   "source": [
    "No trecho acima agrupei por `Player Name`, `Team Initials` e `Year`, contando os gols (gols_por_player)."
   ]
  },
  {
   "cell_type": "code",
   "execution_count": 80,
   "metadata": {},
   "outputs": [
    {
     "data": {
      "text/html": [
       "<div>\n",
       "<style scoped>\n",
       "    .dataframe tbody tr th:only-of-type {\n",
       "        vertical-align: middle;\n",
       "    }\n",
       "\n",
       "    .dataframe tbody tr th {\n",
       "        vertical-align: top;\n",
       "    }\n",
       "\n",
       "    .dataframe thead th {\n",
       "        text-align: right;\n",
       "    }\n",
       "</style>\n",
       "<table border=\"1\" class=\"dataframe\">\n",
       "  <thead>\n",
       "    <tr style=\"text-align: right;\">\n",
       "      <th></th>\n",
       "      <th>Player Name</th>\n",
       "      <th>Team Initials</th>\n",
       "      <th>Year</th>\n",
       "      <th>Gols</th>\n",
       "    </tr>\n",
       "  </thead>\n",
       "  <tbody>\n",
       "    <tr>\n",
       "      <th>678</th>\n",
       "      <td>Just FONTAINE</td>\n",
       "      <td>FRA</td>\n",
       "      <td>1958.0</td>\n",
       "      <td>13</td>\n",
       "    </tr>\n",
       "    <tr>\n",
       "      <th>1128</th>\n",
       "      <td>SCH�RRLE</td>\n",
       "      <td>GER</td>\n",
       "      <td>2014.0</td>\n",
       "      <td>12</td>\n",
       "    </tr>\n",
       "    <tr>\n",
       "      <th>1159</th>\n",
       "      <td>Sandor KOCSIS</td>\n",
       "      <td>HUN</td>\n",
       "      <td>1954.0</td>\n",
       "      <td>11</td>\n",
       "    </tr>\n",
       "    <tr>\n",
       "      <th>556</th>\n",
       "      <td>JAMES</td>\n",
       "      <td>COL</td>\n",
       "      <td>2014.0</td>\n",
       "      <td>11</td>\n",
       "    </tr>\n",
       "    <tr>\n",
       "      <th>422</th>\n",
       "      <td>Gerd MUELLER</td>\n",
       "      <td>FRG</td>\n",
       "      <td>1970.0</td>\n",
       "      <td>9</td>\n",
       "    </tr>\n",
       "    <tr>\n",
       "      <th>1048</th>\n",
       "      <td>RONALDO</td>\n",
       "      <td>BRA</td>\n",
       "      <td>2002.0</td>\n",
       "      <td>8</td>\n",
       "    </tr>\n",
       "  </tbody>\n",
       "</table>\n",
       "</div>"
      ],
      "text/plain": [
       "        Player Name Team Initials    Year  Gols\n",
       "678   Just FONTAINE           FRA  1958.0    13\n",
       "1128       SCH�RRLE           GER  2014.0    12\n",
       "1159  Sandor KOCSIS           HUN  1954.0    11\n",
       "556           JAMES           COL  2014.0    11\n",
       "422    Gerd MUELLER           FRG  1970.0     9\n",
       "1048        RONALDO           BRA  2002.0     8"
      ]
     },
     "execution_count": 80,
     "metadata": {},
     "output_type": "execute_result"
    }
   ],
   "source": [
    "# Ordenando os gols por jogador\n",
    "gols_por_player.sort_values('Gols', ascending= False).head(6)"
   ]
  },
  {
   "cell_type": "markdown",
   "metadata": {},
   "source": [
    "Ordenei os jogadores pelo número de gols (do maior para o menor), exibindo os 6 primeiros para garantir que o melhor brasileiro aparecesse.\n",
    "\n",
    "Aqui é importante notar potenciais erros no dataset. Quando mostro os 6 maiores artilheiros, incluindo o brasileiro Ronaldo, pude notar a presença de James Rodríguez, jogador da seleção colombiana, que embora ganhou o prêmio de gol mais bonito da Copa de 2014, ele **não** é um dos artilheiros históricos do torneio.\n",
    "\n",
    "Por isso aconselho checar no site da FIFA a informação dos artilheiros históricos."
   ]
  },
  {
   "cell_type": "markdown",
   "metadata": {},
   "source": [
    "### Público"
   ]
  },
  {
   "cell_type": "code",
   "execution_count": 81,
   "metadata": {},
   "outputs": [
    {
     "data": {
      "image/png": "[encoded data removed]",
      "text/plain": [
       "<Figure size 1200x600 with 1 Axes>"
      ]
     },
     "metadata": {},
     "output_type": "display_data"
    }
   ],
   "source": [
    "# Criando um gráfico de linhas para ver o número de espectadores por ano\n",
    "plt.figure(figsize=(12, 6))\n",
    "sns.lineplot(data=wc_jogos, x='Year', y='Attendance', marker='o', linewidth=2,errorbar=None)\n",
    "plt.title('Número de espectadores por ano', fontsize=16)\n",
    "plt.xlabel('Ano')\n",
    "plt.ylabel('Número de espectadores')\n",
    "plt.tight_layout()\n",
    "plt.show();"
   ]
  },
  {
   "cell_type": "markdown",
   "metadata": {},
   "source": [
    "Analisando o gráfico de linhas, pude perceber que o público variou muito ao longo dos anos. Vale a pena destacar os seguintes pontos:\n",
    "- Declínio de espectadores entre 1930 e 1950. As tensões pós Primeira Guerra e pré Segunda Guerra provavlemente influenciaram muito para o número do público diminuir.\n",
    "- Aumento de espectadores nos anos 1950. Após o fim da Segunda Guerra, as coisas finalmente pareciam estar entrando nos eixos e as pessoas podiam aproveitar a vida com certa normalidade apesar da Guerra Fria, resultando num pico no número de espectadores.\n",
    "- Pico máximo dos anos 1990. Para alguns a era de ouro do futebol, tínhamos seleções incríveis como o Brasil de Romário, A Itália de Baggio e a França de Zidane. Além das grandes seleções, havia os grandes craques já mencionados, que provavelmente impulsionaram o aumento de público."
   ]
  },
  {
   "cell_type": "markdown",
   "metadata": {},
   "source": [
    "### Cartões Amarelos"
   ]
  },
  {
   "cell_type": "code",
   "execution_count": 82,
   "metadata": {},
   "outputs": [
    {
     "data": {
      "text/html": [
       "<div>\n",
       "<style scoped>\n",
       "    .dataframe tbody tr th:only-of-type {\n",
       "        vertical-align: middle;\n",
       "    }\n",
       "\n",
       "    .dataframe tbody tr th {\n",
       "        vertical-align: top;\n",
       "    }\n",
       "\n",
       "    .dataframe thead th {\n",
       "        text-align: right;\n",
       "    }\n",
       "</style>\n",
       "<table border=\"1\" class=\"dataframe\">\n",
       "  <thead>\n",
       "    <tr style=\"text-align: right;\">\n",
       "      <th></th>\n",
       "      <th>Year</th>\n",
       "      <th>Datetime</th>\n",
       "      <th>Stage</th>\n",
       "      <th>Stadium</th>\n",
       "      <th>City</th>\n",
       "      <th>Home Team Name</th>\n",
       "      <th>Home Team Goals</th>\n",
       "      <th>Away Team Goals</th>\n",
       "      <th>Away Team Name</th>\n",
       "      <th>Win conditions</th>\n",
       "      <th>...</th>\n",
       "      <th>Home Team Initials</th>\n",
       "      <th>Away Team Initials</th>\n",
       "      <th>RoundID_y</th>\n",
       "      <th>Team Initials</th>\n",
       "      <th>Coach Name</th>\n",
       "      <th>Line-up</th>\n",
       "      <th>Shirt Number</th>\n",
       "      <th>Player Name</th>\n",
       "      <th>Position</th>\n",
       "      <th>Event</th>\n",
       "    </tr>\n",
       "  </thead>\n",
       "  <tbody>\n",
       "    <tr>\n",
       "      <th>5659</th>\n",
       "      <td>1950.0</td>\n",
       "      <td>13 Jul 1950 - 15:00</td>\n",
       "      <td>Group 6</td>\n",
       "      <td>Maracan� - Est�dio Jornalista M�rio Filho</td>\n",
       "      <td>Rio De Janeiro</td>\n",
       "      <td>Brazil</td>\n",
       "      <td>6.0</td>\n",
       "      <td>1.0</td>\n",
       "      <td>Spain</td>\n",
       "      <td></td>\n",
       "      <td>...</td>\n",
       "      <td>BRA</td>\n",
       "      <td>ESP</td>\n",
       "      <td>209</td>\n",
       "      <td>BRA</td>\n",
       "      <td>COSTA Flavio (BRA)</td>\n",
       "      <td>S</td>\n",
       "      <td>0</td>\n",
       "      <td>BIGODE</td>\n",
       "      <td>Desconhecido</td>\n",
       "      <td>Y1'</td>\n",
       "    </tr>\n",
       "    <tr>\n",
       "      <th>11373</th>\n",
       "      <td>1962.0</td>\n",
       "      <td>30 May 1962 - 15:00</td>\n",
       "      <td>Group 4</td>\n",
       "      <td>Estadio El Teniente-Codelco</td>\n",
       "      <td>Rancagua</td>\n",
       "      <td>Argentina</td>\n",
       "      <td>1.0</td>\n",
       "      <td>0.0</td>\n",
       "      <td>Bulgaria</td>\n",
       "      <td></td>\n",
       "      <td>...</td>\n",
       "      <td>ARG</td>\n",
       "      <td>BUL</td>\n",
       "      <td>231</td>\n",
       "      <td>ARG</td>\n",
       "      <td>LORENZO Juan Carlos (ARG)</td>\n",
       "      <td>S</td>\n",
       "      <td>15</td>\n",
       "      <td>Ruben NAVARRO</td>\n",
       "      <td>C</td>\n",
       "      <td>Y1'</td>\n",
       "    </tr>\n",
       "    <tr>\n",
       "      <th>14109</th>\n",
       "      <td>1966.0</td>\n",
       "      <td>12 Jul 1966 - 19:30</td>\n",
       "      <td>Group 3</td>\n",
       "      <td>Goodison Park</td>\n",
       "      <td>Liverpool</td>\n",
       "      <td>Brazil</td>\n",
       "      <td>2.0</td>\n",
       "      <td>0.0</td>\n",
       "      <td>Bulgaria</td>\n",
       "      <td></td>\n",
       "      <td>...</td>\n",
       "      <td>BRA</td>\n",
       "      <td>BUL</td>\n",
       "      <td>238</td>\n",
       "      <td>BUL</td>\n",
       "      <td>VYTLACIL Rudolf (TCH)</td>\n",
       "      <td>S</td>\n",
       "      <td>6</td>\n",
       "      <td>Dobromir JECHEV</td>\n",
       "      <td>Desconhecido</td>\n",
       "      <td>Y1'</td>\n",
       "    </tr>\n",
       "    <tr>\n",
       "      <th>14110</th>\n",
       "      <td>1966.0</td>\n",
       "      <td>12 Jul 1966 - 19:30</td>\n",
       "      <td>Group 3</td>\n",
       "      <td>Goodison Park</td>\n",
       "      <td>Liverpool</td>\n",
       "      <td>Brazil</td>\n",
       "      <td>2.0</td>\n",
       "      <td>0.0</td>\n",
       "      <td>Bulgaria</td>\n",
       "      <td></td>\n",
       "      <td>...</td>\n",
       "      <td>BRA</td>\n",
       "      <td>BUL</td>\n",
       "      <td>238</td>\n",
       "      <td>BRA</td>\n",
       "      <td>FEOLA Vicente (BRA)</td>\n",
       "      <td>S</td>\n",
       "      <td>13</td>\n",
       "      <td>DENILSON</td>\n",
       "      <td>Desconhecido</td>\n",
       "      <td>Y1'</td>\n",
       "    </tr>\n",
       "    <tr>\n",
       "      <th>14122</th>\n",
       "      <td>1966.0</td>\n",
       "      <td>12 Jul 1966 - 19:30</td>\n",
       "      <td>Group 3</td>\n",
       "      <td>Goodison Park</td>\n",
       "      <td>Liverpool</td>\n",
       "      <td>Brazil</td>\n",
       "      <td>2.0</td>\n",
       "      <td>0.0</td>\n",
       "      <td>Bulgaria</td>\n",
       "      <td></td>\n",
       "      <td>...</td>\n",
       "      <td>BRA</td>\n",
       "      <td>BUL</td>\n",
       "      <td>238</td>\n",
       "      <td>BUL</td>\n",
       "      <td>VYTLACIL Rudolf (TCH)</td>\n",
       "      <td>S</td>\n",
       "      <td>11</td>\n",
       "      <td>Ivan KOLEV</td>\n",
       "      <td>Desconhecido</td>\n",
       "      <td>Y1'</td>\n",
       "    </tr>\n",
       "  </tbody>\n",
       "</table>\n",
       "<p>5 rows × 28 columns</p>\n",
       "</div>"
      ],
      "text/plain": [
       "         Year              Datetime    Stage  \\\n",
       "5659   1950.0  13 Jul 1950 - 15:00   Group 6   \n",
       "11373  1962.0  30 May 1962 - 15:00   Group 4   \n",
       "14109  1966.0  12 Jul 1966 - 19:30   Group 3   \n",
       "14110  1966.0  12 Jul 1966 - 19:30   Group 3   \n",
       "14122  1966.0  12 Jul 1966 - 19:30   Group 3   \n",
       "\n",
       "                                         Stadium             City  \\\n",
       "5659   Maracan� - Est�dio Jornalista M�rio Filho  Rio De Janeiro    \n",
       "11373                Estadio El Teniente-Codelco        Rancagua    \n",
       "14109                              Goodison Park       Liverpool    \n",
       "14110                              Goodison Park       Liverpool    \n",
       "14122                              Goodison Park       Liverpool    \n",
       "\n",
       "      Home Team Name  Home Team Goals  Away Team Goals Away Team Name  \\\n",
       "5659          Brazil              6.0              1.0          Spain   \n",
       "11373      Argentina              1.0              0.0       Bulgaria   \n",
       "14109         Brazil              2.0              0.0       Bulgaria   \n",
       "14110         Brazil              2.0              0.0       Bulgaria   \n",
       "14122         Brazil              2.0              0.0       Bulgaria   \n",
       "\n",
       "      Win conditions  ...  Home Team Initials  Away Team Initials  RoundID_y  \\\n",
       "5659                  ...                 BRA                 ESP        209   \n",
       "11373                 ...                 ARG                 BUL        231   \n",
       "14109                 ...                 BRA                 BUL        238   \n",
       "14110                 ...                 BRA                 BUL        238   \n",
       "14122                 ...                 BRA                 BUL        238   \n",
       "\n",
       "      Team Initials                 Coach Name Line-up  Shirt Number  \\\n",
       "5659            BRA         COSTA Flavio (BRA)       S             0   \n",
       "11373           ARG  LORENZO Juan Carlos (ARG)       S            15   \n",
       "14109           BUL      VYTLACIL Rudolf (TCH)       S             6   \n",
       "14110           BRA        FEOLA Vicente (BRA)       S            13   \n",
       "14122           BUL      VYTLACIL Rudolf (TCH)       S            11   \n",
       "\n",
       "           Player Name      Position Event  \n",
       "5659            BIGODE  Desconhecido   Y1'  \n",
       "11373    Ruben NAVARRO             C   Y1'  \n",
       "14109  Dobromir JECHEV  Desconhecido   Y1'  \n",
       "14110         DENILSON  Desconhecido   Y1'  \n",
       "14122       Ivan KOLEV  Desconhecido   Y1'  \n",
       "\n",
       "[5 rows x 28 columns]"
      ]
     },
     "execution_count": 82,
     "metadata": {},
     "output_type": "execute_result"
    }
   ],
   "source": [
    "# Filtrando os eventos que começam com 'Y'\n",
    "amarelos = wcs_unidos[wcs_unidos['Event'].str.startswith('Y')]\n",
    "amarelos.head()"
   ]
  },
  {
   "cell_type": "markdown",
   "metadata": {},
   "source": [
    "Na célula acima, meu objetivo foi mostrar os eventos relacionados aos cartões amarelos (Y). Para isso utilizei o método `str.startswith('Y')`, que verifica os valores da coluna `Event` que começa com Y."
   ]
  },
  {
   "cell_type": "code",
   "execution_count": 83,
   "metadata": {},
   "outputs": [
    {
     "data": {
      "text/html": [
       "<div>\n",
       "<style scoped>\n",
       "    .dataframe tbody tr th:only-of-type {\n",
       "        vertical-align: middle;\n",
       "    }\n",
       "\n",
       "    .dataframe tbody tr th {\n",
       "        vertical-align: top;\n",
       "    }\n",
       "\n",
       "    .dataframe thead th {\n",
       "        text-align: right;\n",
       "    }\n",
       "</style>\n",
       "<table border=\"1\" class=\"dataframe\">\n",
       "  <thead>\n",
       "    <tr style=\"text-align: right;\">\n",
       "      <th></th>\n",
       "      <th>Year</th>\n",
       "      <th>Quantidade</th>\n",
       "    </tr>\n",
       "  </thead>\n",
       "  <tbody>\n",
       "    <tr>\n",
       "      <th>0</th>\n",
       "      <td>1950.0</td>\n",
       "      <td>1</td>\n",
       "    </tr>\n",
       "    <tr>\n",
       "      <th>1</th>\n",
       "      <td>1962.0</td>\n",
       "      <td>1</td>\n",
       "    </tr>\n",
       "    <tr>\n",
       "      <th>2</th>\n",
       "      <td>1966.0</td>\n",
       "      <td>21</td>\n",
       "    </tr>\n",
       "    <tr>\n",
       "      <th>3</th>\n",
       "      <td>1970.0</td>\n",
       "      <td>51</td>\n",
       "    </tr>\n",
       "    <tr>\n",
       "      <th>4</th>\n",
       "      <td>1974.0</td>\n",
       "      <td>87</td>\n",
       "    </tr>\n",
       "  </tbody>\n",
       "</table>\n",
       "</div>"
      ],
      "text/plain": [
       "     Year  Quantidade\n",
       "0  1950.0           1\n",
       "1  1962.0           1\n",
       "2  1966.0          21\n",
       "3  1970.0          51\n",
       "4  1974.0          87"
      ]
     },
     "execution_count": 83,
     "metadata": {},
     "output_type": "execute_result"
    }
   ],
   "source": [
    "# Agrupando os cartões amarelos por ano\n",
    "cartoes_por_ano = amarelos.groupby('Year').size().reset_index(name='Quantidade')\n",
    "cartoes_por_ano.head()"
   ]
  },
  {
   "cell_type": "markdown",
   "metadata": {},
   "source": [
    "Usei o `groupby()`para agrupar e contar os cartões amarelos por ano antes de criar o gráfico para melhor visualização da informação."
   ]
  },
  {
   "cell_type": "code",
   "execution_count": 84,
   "metadata": {},
   "outputs": [
    {
     "data": {
      "image/png": "[encoded data removed]",
      "text/plain": [
       "<Figure size 1200x800 with 1 Axes>"
      ]
     },
     "metadata": {},
     "output_type": "display_data"
    }
   ],
   "source": [
    "# Criando um gráfico de linhas para ver o número de cartões amarelos por ano\n",
    "plt.figure(figsize=(12,8))\n",
    "sns.lineplot(data=cartoes_por_ano, x='Year', y='Quantidade', marker='o', color='orange', linewidth=2)\n",
    "plt.title('Quantidade de Cartões Amarelos por Ano', fontsize=16)\n",
    "plt.xlabel('Ano')\n",
    "plt.ylabel('Quantidade de Cartões')\n",
    "plt.tight_layout()\n",
    "plt.show();\n"
   ]
  },
  {
   "cell_type": "markdown",
   "metadata": {},
   "source": [
    "O gráfico mostra um aumento gradual no número de cartões amarelos no fim dos anos 1970, até a Copa de 2006. O motivo para isso, principalmente no século XX pode estar relacionado a criação de regras mais rígidas para punir faltas violentas. \n",
    "\n",
    "O pico de amarelos aconteceu em 2014, para isso podemos pensar em como o futebol de hoje é mais rápido, o que também pode ocasionar faltas violentas e até mesmo árbritos mais rigorosos."
   ]
  },
  {
   "cell_type": "markdown",
   "metadata": {},
   "source": [
    "### Cartões vermelhos"
   ]
  },
  {
   "cell_type": "code",
   "execution_count": 85,
   "metadata": {},
   "outputs": [],
   "source": [
    "# Filtrando os eventos que começam com 'R'\n",
    "vermelhos = wcs_unidos[wcs_unidos['Event'].str.startswith('R')]"
   ]
  },
  {
   "cell_type": "markdown",
   "metadata": {},
   "source": [
    "Na célula acima, meu objetivo foi mostrar os eventos relacionados aos cartões vermelhos (R). Para isso utilizei o método `str.startswith('R')`, que verifica os valores da coluna `Event` que começa com R."
   ]
  },
  {
   "cell_type": "code",
   "execution_count": 86,
   "metadata": {},
   "outputs": [
    {
     "data": {
      "text/html": [
       "<div>\n",
       "<style scoped>\n",
       "    .dataframe tbody tr th:only-of-type {\n",
       "        vertical-align: middle;\n",
       "    }\n",
       "\n",
       "    .dataframe tbody tr th {\n",
       "        vertical-align: top;\n",
       "    }\n",
       "\n",
       "    .dataframe thead th {\n",
       "        text-align: right;\n",
       "    }\n",
       "</style>\n",
       "<table border=\"1\" class=\"dataframe\">\n",
       "  <thead>\n",
       "    <tr style=\"text-align: right;\">\n",
       "      <th></th>\n",
       "      <th>Year</th>\n",
       "      <th>Quantidade</th>\n",
       "    </tr>\n",
       "  </thead>\n",
       "  <tbody>\n",
       "    <tr>\n",
       "      <th>0</th>\n",
       "      <td>1930.0</td>\n",
       "      <td>1</td>\n",
       "    </tr>\n",
       "    <tr>\n",
       "      <th>1</th>\n",
       "      <td>1934.0</td>\n",
       "      <td>1</td>\n",
       "    </tr>\n",
       "    <tr>\n",
       "      <th>2</th>\n",
       "      <td>1938.0</td>\n",
       "      <td>4</td>\n",
       "    </tr>\n",
       "    <tr>\n",
       "      <th>3</th>\n",
       "      <td>1954.0</td>\n",
       "      <td>3</td>\n",
       "    </tr>\n",
       "    <tr>\n",
       "      <th>4</th>\n",
       "      <td>1958.0</td>\n",
       "      <td>3</td>\n",
       "    </tr>\n",
       "  </tbody>\n",
       "</table>\n",
       "</div>"
      ],
      "text/plain": [
       "     Year  Quantidade\n",
       "0  1930.0           1\n",
       "1  1934.0           1\n",
       "2  1938.0           4\n",
       "3  1954.0           3\n",
       "4  1958.0           3"
      ]
     },
     "execution_count": 86,
     "metadata": {},
     "output_type": "execute_result"
    }
   ],
   "source": [
    "# Agrupando os cartões vermelhos por ano\n",
    "red_por_ano = vermelhos.groupby('Year').size().reset_index(name='Quantidade')\n",
    "red_por_ano.head()"
   ]
  },
  {
   "cell_type": "markdown",
   "metadata": {},
   "source": [
    "Usei o `groupby()`para agrupar e contar os cartões vermelhos por ano, usando os dados para plotar um gráfico de linha."
   ]
  },
  {
   "cell_type": "code",
   "execution_count": 87,
   "metadata": {},
   "outputs": [
    {
     "data": {
      "image/png": "[encoded data removed]",
      "text/plain": [
       "<Figure size 1200x800 with 1 Axes>"
      ]
     },
     "metadata": {},
     "output_type": "display_data"
    }
   ],
   "source": [
    "# Plotando um gráfico de linhas para ver o número de cartões vermelhos por ano\n",
    "plt.figure(figsize=(12,8))\n",
    "sns.lineplot(data=red_por_ano, x='Year', y='Quantidade', marker='o', color='red', linewidth=2)\n",
    "plt.title('Quantidade de Cartões Vermelho por Ano', fontsize=16)\n",
    "plt.xlabel('Ano')\n",
    "plt.ylabel('Quantidade de Cartões')\n",
    "plt.tight_layout()\n",
    "plt.show();\n"
   ]
  },
  {
   "cell_type": "markdown",
   "metadata": {},
   "source": [
    "O que me chamou atenção no número de cartões por ano neste gráfico é o pico em 2006, ano em que tivemos a famosa cabeçada de Zidane na final que resultou em sua expulsão e derrota da França. E também notei a diminuição de vermelhos após isso. A medida que o futebol evolui e fica cada vez mais tático, é importante manter todos os jogadores em campo para conseguir a vitória, provavelmente influenciando no declínio do número de vermelhos nas Copas seguintes"
   ]
  },
  {
   "cell_type": "markdown",
   "metadata": {},
   "source": [
    "### Seleções mais ofensivas"
   ]
  },
  {
   "cell_type": "code",
   "execution_count": 88,
   "metadata": {},
   "outputs": [],
   "source": [
    "# Criando uma nova coluna com o total de gols\n",
    "wc_jogos['Total Goals']= wc_jogos['Home Team Goals'] + wc_jogos['Away Team Goals']"
   ]
  },
  {
   "cell_type": "code",
   "execution_count": 89,
   "metadata": {},
   "outputs": [
    {
     "data": {
      "text/html": [
       "<div>\n",
       "<style scoped>\n",
       "    .dataframe tbody tr th:only-of-type {\n",
       "        vertical-align: middle;\n",
       "    }\n",
       "\n",
       "    .dataframe tbody tr th {\n",
       "        vertical-align: top;\n",
       "    }\n",
       "\n",
       "    .dataframe thead th {\n",
       "        text-align: right;\n",
       "    }\n",
       "</style>\n",
       "<table border=\"1\" class=\"dataframe\">\n",
       "  <thead>\n",
       "    <tr style=\"text-align: right;\">\n",
       "      <th></th>\n",
       "      <th>Year</th>\n",
       "      <th>Total Goals</th>\n",
       "    </tr>\n",
       "  </thead>\n",
       "  <tbody>\n",
       "    <tr>\n",
       "      <th>0</th>\n",
       "      <td>1930.0</td>\n",
       "      <td>70.0</td>\n",
       "    </tr>\n",
       "    <tr>\n",
       "      <th>1</th>\n",
       "      <td>1934.0</td>\n",
       "      <td>70.0</td>\n",
       "    </tr>\n",
       "    <tr>\n",
       "      <th>2</th>\n",
       "      <td>1938.0</td>\n",
       "      <td>84.0</td>\n",
       "    </tr>\n",
       "    <tr>\n",
       "      <th>3</th>\n",
       "      <td>1950.0</td>\n",
       "      <td>88.0</td>\n",
       "    </tr>\n",
       "    <tr>\n",
       "      <th>4</th>\n",
       "      <td>1954.0</td>\n",
       "      <td>140.0</td>\n",
       "    </tr>\n",
       "  </tbody>\n",
       "</table>\n",
       "</div>"
      ],
      "text/plain": [
       "     Year  Total Goals\n",
       "0  1930.0         70.0\n",
       "1  1934.0         70.0\n",
       "2  1938.0         84.0\n",
       "3  1950.0         88.0\n",
       "4  1954.0        140.0"
      ]
     },
     "execution_count": 89,
     "metadata": {},
     "output_type": "execute_result"
    }
   ],
   "source": [
    "# Agrupando o total de gols por ano\n",
    "gols_por_ano = wc_jogos.groupby('Year')['Total Goals'].sum().reset_index()\n",
    "gols_por_ano.head()"
   ]
  },
  {
   "cell_type": "code",
   "execution_count": 118,
   "metadata": {},
   "outputs": [
    {
     "data": {
      "image/png": "[encoded data removed]",
      "text/plain": [
       "<Figure size 1200x800 with 1 Axes>"
      ]
     },
     "metadata": {},
     "output_type": "display_data"
    }
   ],
   "source": [
    "# Plotando um gráfico de linhas para ver o número total de gols por ano\n",
    "plt.figure(figsize=(12,8))\n",
    "sns.lineplot(data=gols_por_ano, x='Year', y='Total Goals', marker='o', linewidth=2,color='green')\n",
    "plt.title('Número Total de Gols Marcados ao Longo das Copas do Mundo', fontsize=16)\n",
    "plt.xlabel('Ano')\n",
    "plt.ylabel('Total de Gols')\n",
    "plt.tight_layout()\n",
    "plt.show();"
   ]
  },
  {
   "cell_type": "markdown",
   "metadata": {},
   "source": [
    "Nas últimas células desse notebook eu comecei o processo de conseguir o total de gols para plotar o gráfico de linhas.\n",
    "\n",
    "Primeiro eu criei uma coluna nova chamada `Total Goals`onde somei os gols marcados fora e dentro de casa.\n",
    "\n",
    "Depois agrupei o total de gol por ano e fiz a contagem. \n",
    "\n",
    "Por último plotei o gráfico que mostra a quantidade de gols por ano"
   ]
  },
  {
   "cell_type": "markdown",
   "metadata": {},
   "source": [
    "Neste gráfico podemos ver que aṕos 2010 e a quantidade de gols deu um salto, atingindo o auge, isso pode ser motivos de táticas mais avançadas e treinamentos mais intensos e inovadores que buscam melhorar a performance dos atletas.\n",
    "\n",
    "Também foi nesta copa que o Brasil foi derrotado por 7x1 numa partida contra a Alemanha, o que pode ter inflado os números de gols dessa Copa, fazendo os números atingirem este pico."
   ]
  },
  {
   "cell_type": "markdown",
   "metadata": {},
   "source": [
    "### Ofensividade das Seleções"
   ]
  },
  {
   "cell_type": "code",
   "execution_count": 94,
   "metadata": {},
   "outputs": [
    {
     "data": {
      "text/html": [
       "<div>\n",
       "<style scoped>\n",
       "    .dataframe tbody tr th:only-of-type {\n",
       "        vertical-align: middle;\n",
       "    }\n",
       "\n",
       "    .dataframe tbody tr th {\n",
       "        vertical-align: top;\n",
       "    }\n",
       "\n",
       "    .dataframe thead th {\n",
       "        text-align: right;\n",
       "    }\n",
       "</style>\n",
       "<table border=\"1\" class=\"dataframe\">\n",
       "  <thead>\n",
       "    <tr style=\"text-align: right;\">\n",
       "      <th></th>\n",
       "      <th>Equipe</th>\n",
       "      <th>Gols</th>\n",
       "    </tr>\n",
       "  </thead>\n",
       "  <tbody>\n",
       "    <tr>\n",
       "      <th>7</th>\n",
       "      <td>Brazil</td>\n",
       "      <td>258.0</td>\n",
       "    </tr>\n",
       "    <tr>\n",
       "      <th>2</th>\n",
       "      <td>Argentina</td>\n",
       "      <td>155.0</td>\n",
       "    </tr>\n",
       "    <tr>\n",
       "      <th>35</th>\n",
       "      <td>Italy</td>\n",
       "      <td>140.0</td>\n",
       "    </tr>\n",
       "    <tr>\n",
       "      <th>26</th>\n",
       "      <td>Germany FR</td>\n",
       "      <td>135.0</td>\n",
       "    </tr>\n",
       "    <tr>\n",
       "      <th>25</th>\n",
       "      <td>Germany</td>\n",
       "      <td>101.0</td>\n",
       "    </tr>\n",
       "  </tbody>\n",
       "</table>\n",
       "</div>"
      ],
      "text/plain": [
       "        Equipe   Gols\n",
       "7       Brazil  258.0\n",
       "2    Argentina  155.0\n",
       "35       Italy  140.0\n",
       "26  Germany FR  135.0\n",
       "25     Germany  101.0"
      ]
     },
     "execution_count": 94,
     "metadata": {},
     "output_type": "execute_result"
    }
   ],
   "source": [
    "# Agrupando os gols por seleção e renomeando as colunas corretamente\n",
    "gols_por_selecao = wc_jogos.groupby('Home Team Name')['Total Goals'].sum().reset_index()\n",
    "\n",
    "# Renomeando as colunas para algo mais descritivo\n",
    "gols_por_selecao.rename(columns={'Home Team Name': 'Equipe', 'Total Goals': 'Gols'}, inplace=True)\n",
    "\n",
    "# Ordenando as seleções pelo número de gols e exibindo as 5 mais ofensivas\n",
    "gols_por_selecao= gols_por_selecao.sort_values('Gols', ascending=False)\n",
    "\n",
    "gols_por_selecao.head()"
   ]
  },
  {
   "cell_type": "code",
   "execution_count": 102,
   "metadata": {},
   "outputs": [
    {
     "data": {
      "image/png": "[encoded data removed]",
      "text/plain": [
       "<Figure size 1200x800 with 1 Axes>"
      ]
     },
     "metadata": {},
     "output_type": "display_data"
    }
   ],
   "source": [
    "# Gráfico de barras mostrando as seleções mais ofensivas\n",
    "plt.figure(figsize=(12,8))\n",
    "sns.barplot(data=gols_por_selecao.head(),x='Equipe', y='Gols',hue='Equipe',palette='viridis')\n",
    "plt.title('Seleções Mais Ofensivas em Copas do Mundo', fontsize=16)\n",
    "plt.ylabel('Gols')\n",
    "plt.xlabel('Seleção')\n",
    "plt.tight_layout()\n",
    "plt.show();"
   ]
  },
  {
   "cell_type": "markdown",
   "metadata": {},
   "source": [
    "Primeiro, agrupei as seleções pelo nome (Home Team Name) e calculei o total de gols marcados por cada uma.\n",
    "Depois, usei o método `rename()` e passei um dicionário para alterar os nomes das colunas, tornando-as mais descritivas e melhorando a visualização.\n",
    "Por fim, ordenei os gols em ordem decrescente para identificar as seleções mais ofensivas, ou seja, aquelas que marcaram mais gols."
   ]
  },
  {
   "cell_type": "markdown",
   "metadata": {},
   "source": [
    "#### As seleções mais ofensivas são:\n",
    "- Brasil com 258 gols\n",
    "- Argentina com 155 gols\n",
    "- Itália com 140 gols\n",
    "- Alemanha Ocidental (*Germany FR*) com 135 gols\n",
    "- Alemanha com 101 gols\n",
    "\n",
    "Repare que temos duas Alemanhas na lista. A Alemanha Ocidental era como se chamava a parte ocidental da Alemanha durante a divisão do país na Guerra Fria. Essa divisão existiu até 1990, quando, com o fim da Guerra Fria, as duas Alemanhas se reunificaram, formando a atual Alemanha."
   ]
  },
  {
   "cell_type": "markdown",
   "metadata": {},
   "source": [
    "### Gols Jogando em casa "
   ]
  },
  {
   "cell_type": "code",
   "execution_count": null,
   "metadata": {},
   "outputs": [
    {
     "data": {
      "text/html": [
       "<div>\n",
       "<style scoped>\n",
       "    .dataframe tbody tr th:only-of-type {\n",
       "        vertical-align: middle;\n",
       "    }\n",
       "\n",
       "    .dataframe tbody tr th {\n",
       "        vertical-align: top;\n",
       "    }\n",
       "\n",
       "    .dataframe thead th {\n",
       "        text-align: right;\n",
       "    }\n",
       "</style>\n",
       "<table border=\"1\" class=\"dataframe\">\n",
       "  <thead>\n",
       "    <tr style=\"text-align: right;\">\n",
       "      <th></th>\n",
       "      <th>Home Team Name</th>\n",
       "      <th>Home Team Goals</th>\n",
       "    </tr>\n",
       "  </thead>\n",
       "  <tbody>\n",
       "    <tr>\n",
       "      <th>7</th>\n",
       "      <td>Brazil</td>\n",
       "      <td>180.0</td>\n",
       "    </tr>\n",
       "    <tr>\n",
       "      <th>2</th>\n",
       "      <td>Argentina</td>\n",
       "      <td>111.0</td>\n",
       "    </tr>\n",
       "    <tr>\n",
       "      <th>26</th>\n",
       "      <td>Germany FR</td>\n",
       "      <td>99.0</td>\n",
       "    </tr>\n",
       "    <tr>\n",
       "      <th>35</th>\n",
       "      <td>Italy</td>\n",
       "      <td>99.0</td>\n",
       "    </tr>\n",
       "    <tr>\n",
       "      <th>31</th>\n",
       "      <td>Hungary</td>\n",
       "      <td>73.0</td>\n",
       "    </tr>\n",
       "  </tbody>\n",
       "</table>\n",
       "</div>"
      ],
      "text/plain": [
       "   Home Team Name  Home Team Goals\n",
       "7          Brazil            180.0\n",
       "2       Argentina            111.0\n",
       "26     Germany FR             99.0\n",
       "35          Italy             99.0\n",
       "31        Hungary             73.0"
      ]
     },
     "execution_count": 108,
     "metadata": {},
     "output_type": "execute_result"
    }
   ],
   "source": [
    "# Mostrandos quais são as seleções que mais fizeram gols dentro de casa\n",
    "gols_casa = wc_jogos.groupby('Home Team Name')['Home Team Goals'].sum().reset_index()\n",
    "\n",
    "# Odernando as seleções pelo número de gols feitos em casa\n",
    "gols_casa = gols_casa.sort_values('Home Team Goals', ascending=False)\n",
    "\n",
    "gols_casa.head()"
   ]
  },
  {
   "cell_type": "code",
   "execution_count": 117,
   "metadata": {},
   "outputs": [
    {
     "data": {
      "image/png": "[encoded data removed]",
      "text/plain": [
       "<Figure size 1200x800 with 1 Axes>"
      ]
     },
     "metadata": {},
     "output_type": "display_data"
    }
   ],
   "source": [
    "# Gráfico de barras mostrando as seleções com mais gols em casa\n",
    "plt.figure(figsize=(12,8))\n",
    "sns.barplot(data=gols_casa.head(),x='Home Team Name', y='Home Team Goals',hue='Home Team Name',palette='flare')\n",
    "plt.title('Seleções com Mais Gols em Casa', fontsize=16)\n",
    "plt.ylabel('Gols')\n",
    "plt.xlabel('Seleção')\n",
    "plt.tight_layout()\n",
    "plt.show();"
   ]
  },
  {
   "cell_type": "markdown",
   "metadata": {},
   "source": [
    "Depois de agrupar as seleções que fizeram mais gols em casa e agrupá-las para mostrar as equipes que mais fizeram gols dentro de casa, tive o seguinte resultado:\n",
    "- Brasil com 180\n",
    "- Argentina com 111\n",
    "- Alemanha Ocidental com 99\n",
    "- Itália com 99 \n",
    "- Hungria com 73\n",
    "\n",
    "A grande surpresa foi a Hungria, que embora não esteja no top 5 de seleções mais ofensivas, é a 5ª seleção que mais fez gols em casa.\n"
   ]
  },
  {
   "cell_type": "markdown",
   "metadata": {},
   "source": [
    "### Gols jogando fora de casa"
   ]
  },
  {
   "cell_type": "code",
   "execution_count": 110,
   "metadata": {},
   "outputs": [
    {
     "data": {
      "text/html": [
       "<div>\n",
       "<style scoped>\n",
       "    .dataframe tbody tr th:only-of-type {\n",
       "        vertical-align: middle;\n",
       "    }\n",
       "\n",
       "    .dataframe tbody tr th {\n",
       "        vertical-align: top;\n",
       "    }\n",
       "\n",
       "    .dataframe thead th {\n",
       "        text-align: right;\n",
       "    }\n",
       "</style>\n",
       "<table border=\"1\" class=\"dataframe\">\n",
       "  <thead>\n",
       "    <tr style=\"text-align: right;\">\n",
       "      <th></th>\n",
       "      <th>Home Team Name</th>\n",
       "      <th>Away Team Goals</th>\n",
       "    </tr>\n",
       "  </thead>\n",
       "  <tbody>\n",
       "    <tr>\n",
       "      <th>7</th>\n",
       "      <td>Brazil</td>\n",
       "      <td>78.0</td>\n",
       "    </tr>\n",
       "    <tr>\n",
       "      <th>2</th>\n",
       "      <td>Argentina</td>\n",
       "      <td>44.0</td>\n",
       "    </tr>\n",
       "    <tr>\n",
       "      <th>35</th>\n",
       "      <td>Italy</td>\n",
       "      <td>41.0</td>\n",
       "    </tr>\n",
       "    <tr>\n",
       "      <th>26</th>\n",
       "      <td>Germany FR</td>\n",
       "      <td>36.0</td>\n",
       "    </tr>\n",
       "    <tr>\n",
       "      <th>25</th>\n",
       "      <td>Germany</td>\n",
       "      <td>32.0</td>\n",
       "    </tr>\n",
       "  </tbody>\n",
       "</table>\n",
       "</div>"
      ],
      "text/plain": [
       "   Home Team Name  Away Team Goals\n",
       "7          Brazil             78.0\n",
       "2       Argentina             44.0\n",
       "35          Italy             41.0\n",
       "26     Germany FR             36.0\n",
       "25        Germany             32.0"
      ]
     },
     "execution_count": 110,
     "metadata": {},
     "output_type": "execute_result"
    }
   ],
   "source": [
    "# Mostrandos quais são as seleções que mais fizeram gols Fora de casa\n",
    "gols_fora = wc_jogos.groupby('Home Team Name')['Away Team Goals'].sum().reset_index()\n",
    "\n",
    "# Ordenando as seleções pelos gols feitos fora de casa\n",
    "gols_fora = gols_fora.sort_values('Away Team Goals', ascending=False)\n",
    "gols_fora.head(5)"
   ]
  },
  {
   "cell_type": "code",
   "execution_count": 116,
   "metadata": {},
   "outputs": [
    {
     "data": {
      "image/png": "[encoded data removed]",
      "text/plain": [
       "<Figure size 1200x800 with 1 Axes>"
      ]
     },
     "metadata": {},
     "output_type": "display_data"
    }
   ],
   "source": [
    "# Gráfico de barras mostrando as seleções com mais gols em casa\n",
    "plt.figure(figsize=(12,8))\n",
    "sns.barplot(data=gols_fora.head(),x='Home Team Name', y='Away Team Goals',hue='Home Team Name',palette='crest')\n",
    "plt.title('Seleções com Mais Gols Fora Casa', fontsize=16)\n",
    "plt.ylabel('Gols')\n",
    "plt.xlabel('Seleção')\n",
    "plt.tight_layout()\n",
    "plt.show();"
   ]
  },
  {
   "cell_type": "markdown",
   "metadata": {},
   "source": [
    "Depois de agrupar as seleções que fizeram mais gols em casa e agrupá-las para mostrar as equipes que mais fizeram gols fora de casa, tive o seguinte resultado:\n",
    "- Brasil com 78\n",
    "- Argentina com 44\n",
    "- Itália com 41\n",
    "- Alemanha Ocidental com 36\n",
    "- Alemanha com 32\n",
    "\n",
    "Mais uma vez o Brasil lidera o ranking, dessa vez quando analisamos os gols fora de casa. Mais uma amostra clara do porquê a seleção Brasileira é o melhor ataque das copas do mundo. Ter participado de todas elas também explica a seleção estar no topo em todos os quesitos ofensivos."
   ]
  },
  {
   "cell_type": "markdown",
   "metadata": {},
   "source": [
    "# **Conclusão**"
   ]
  },
  {
   "cell_type": "markdown",
   "metadata": {},
   "source": [
    "- **Evolução dos gols:** O número de gols ao longo da história do torneio apresentou diversas oscilações, atingindo um pico notável em 1950 e um declínio considerável aṕos a Copa do Mundo de 1998. Porém o número de gols marcados atingiu a maior marca na copa de 2014, último ano de copa presente no dataset.\n",
    "- **Público nos estádios:** Podemos observar uma grande variação da quantidade de espectadores aos longos dos\n",
    "anos, com uma baixa na época pré segunda guerra mundial e chegando ao seu auge nos\n",
    "anos 1990, época com diversos craques que influenciaram as pessoas a assistirem mais\n",
    "futebol. Tempo marcado por grandes seleções como o Brasil, a França e a Itália, além do processo de modernização do futebol.\n",
    "- **Distribuição de cartões:** Ao observar os gráficos podemos ver que o número de cartões amarelos teve uma crescente\n",
    "que durou muitos anos, tendo seu auge em 2014 na Copa do Mundo do Brasil. Enquanto os\n",
    "amarelos teve um aumento durante vários anos, os cartões vermelhos apresentaram altos e\n",
    "baixos ao longo dos anos, com seu auge no fim dos anos 90. Porém diferentemente dos\n",
    "cartões amarelos, os vermelhos apresentaram queda após a copa de 2006.\n",
    "- **Times mais ofensivos:**  Brasil, Argentina, Itália e Alemanha dominam em gols marcados, reforçando sua tradição no futebol mundial.\n",
    "- **Mais gols fora e dentro de casa:** Brasil se destaca em ambas estatísticas, mostrando o porquê é o maior ganhador da competição.\n",
    "\n",
    "### Detalhes importantes a ser considerados: \n",
    "\n",
    "Quando analisamos os artilheiros, observamos que há possíveis erros neste dataset, já que entre os artilheiros temos o colombiano James Rodríguez, que apesar de ter ganho o prêmio de gol mais bonito na Copa de 2014, não é um dos artilheiros da competição. Então é importante ficar atentos aos outliers.\n"
   ]
  }
 ],
 "metadata": {
  "kernelspec": {
   "display_name": "base",
   "language": "python",
   "name": "python3"
  },
  "language_info": {
   "codemirror_mode": {
    "name": "ipython",
    "version": 3
   },
   "file_extension": ".py",
   "mimetype": "text/x-python",
   "name": "python",
   "nbconvert_exporter": "python",
   "pygments_lexer": "ipython3",
   "version": "3.12.7"
  }
 },
 "nbformat": 4,
 "nbformat_minor": 2
}
